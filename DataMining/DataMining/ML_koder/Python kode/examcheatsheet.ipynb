{
 "cells": [
  {
   "cell_type": "markdown",
   "metadata": {
    "collapsed": true,
    "pycharm": {
     "name": "#%% md\n"
    }
   },
   "source": [
    "Exercise 4"
   ]
  },
  {
   "cell_type": "markdown",
   "source": [
    "##Exercise 4-1 Color-histograms and distance functions (1 point)"
   ],
   "metadata": {
    "collapsed": false,
    "pycharm": {
     "name": "#%% md\n"
    }
   }
  },
  {
   "cell_type": "code",
   "execution_count": 2,
   "outputs": [
    {
     "name": "stdout",
     "output_type": "stream",
     "text": [
      "Euclidean distance from P to Q: 5.385164807134504\n",
      "Euclidean distance from P to Q: 5.385164807134504\n"
     ]
    }
   ],
   "source": [
    "import math\n",
    "import numpy as np\n",
    "\n",
    "P = np.array([2, 3, 5])\n",
    "Q = np.array([4, 7, 8])\n",
    "\n",
    "distance = math.sqrt(sum([(a-b)**2 for a, b in zip(P, Q)]))\n",
    "print(\"Euclidean distance from P to Q:\", distance)"
   ],
   "metadata": {
    "collapsed": false,
    "pycharm": {
     "name": "#%%\n"
    }
   }
  },
  {
   "cell_type": "code",
   "execution_count": 3,
   "outputs": [
    {
     "name": "stdout",
     "output_type": "stream",
     "text": [
      "Manhatten distance form P to Q: 9\n"
     ]
    }
   ],
   "source": [
    "P = np.array([2, 3, 5])\n",
    "Q = np.array([4, 7, 8])\n",
    "distance2 = sum(abs(a-b) for a, b in zip(P, Q))\n",
    "\n",
    "print(\"Manhatten distance form P to Q:\", distance2)"
   ],
   "metadata": {
    "collapsed": false,
    "pycharm": {
     "name": "#%%\n"
    }
   }
  },
  {
   "cell_type": "code",
   "execution_count": 3,
   "outputs": [],
   "source": [],
   "metadata": {
    "collapsed": false,
    "pycharm": {
     "name": "#%%\n"
    }
   }
  },
  {
   "cell_type": "code",
   "execution_count": 4,
   "outputs": [
    {
     "name": "stdout",
     "output_type": "stream",
     "text": [
      "Maximum distance form P to Q: 4\n"
     ]
    }
   ],
   "source": [
    "P = np.array([2, 3, 5])\n",
    "Q = np.array([4, 7, 8])\n",
    "\n",
    "distance3 = max(abs(a-b) for a, b in zip(P, Q))\n",
    "\n",
    "print(\"Maximum distance form P to Q:\", distance3)"
   ],
   "metadata": {
    "collapsed": false,
    "pycharm": {
     "name": "#%%\n"
    }
   }
  },
  {
   "cell_type": "code",
   "execution_count": 5,
   "outputs": [
    {
     "name": "stdout",
     "output_type": "stream",
     "text": [
      "Weighted Euclidean form P to Q: 7.106335201775948\n"
     ]
    }
   ],
   "source": [
    "import numpy as np\n",
    "\n",
    "P = np.array([2, 3, 5])\n",
    "Q = np.array([4, 7, 8])\n",
    "w = np.array([1, 1.5, 2.5])\n",
    "\n",
    "def weightedL2(a, b, c):\n",
    "    q = a-b\n",
    "    return np.sqrt((c*q*q).sum())\n",
    "\n",
    "\n",
    "print(\"Weighted Euclidean form P to Q:\", weightedL2(P, Q, w))"
   ],
   "metadata": {
    "collapsed": false,
    "pycharm": {
     "name": "#%%\n"
    }
   }
  },
  {
   "cell_type": "code",
   "execution_count": 6,
   "outputs": [
    {
     "name": "stdout",
     "output_type": "stream",
     "text": [
      "Quadratic form form P to Q: 5.385164807134504\n",
      "Quadratic form form P to Q: 8.426149773176359\n",
      "form P to Quadratic form Q: 4.0\n",
      "Quadratic form form P to Q: 5.656854249492381\n",
      "Quadratic form form P to Q: 4.0\n",
      "Quadratic form form P to Q: 11.313708498984761\n",
      "Quadratic form form P to Q: 2.0\n",
      "Quadratic form form P to Q: 4.0\n",
      "Quadratic form form P to Q: 1.4142135623730951\n",
      "Quadratic form form P to Q: 4.0\n"
     ]
    }
   ],
   "source": [
    "P = np.array([2, 3, 5])\n",
    "Q = np.array([4, 7, 8])\n",
    "M1 = np.matrix([[1,0,0], [0,1,0], [0,0,1]])\n",
    "M2 = np.matrix([[1,0.9,0.7], [0.9,1,0.8], [0.7,0.8,1]])\n",
    "\n",
    "def QuadraticForm(a, b, c):\n",
    "    q = a-b\n",
    "    p = np.dot((q), c)\n",
    "    return np.sqrt((np.dot(p, q.T)).sum())\n",
    "\n",
    "print(\"Quadratic form form P to Q:\", QuadraticForm(P, Q, M1))\n",
    "print(\"Quadratic form form P to Q:\", QuadraticForm(P, Q, M2))\n",
    "\n",
    "\n",
    "\n",
    "##TIl en af slide fra svarmulighederne\n",
    "print(\"form P to Quadratic form Q:\", QuadraticForm(np.array([0,0]), np.array([0,2]), np.matrix([[2,0],[0,4]])))\n",
    "\n",
    "print(\"Quadratic form form P to Q:\", QuadraticForm(np.array([0,0]), np.array([4,0]), np.matrix([[2,0],[0,4]])))\n",
    "print(\"Quadratic form form P to Q:\", QuadraticForm(np.array([0,0]), np.array([np.sqrt(8), 0]), np.matrix([[2,0],[0,4]])))\n",
    "print(\"Quadratic form form P to Q:\", QuadraticForm(np.array([0,0]), np.array([8, 0]), np.matrix([[2,0],[0,4]])))\n",
    "print(\"Quadratic form form P to Q:\", QuadraticForm(np.array([0,0]), np.array([np.sqrt(2), 0]), np.matrix([[2,0],[0,4]])))\n",
    "print(\"Quadratic form form P to Q:\", QuadraticForm(np.array([0,0]), np.array([np.sqrt(2),np.sqrt(3)]), np.matrix([[2,0],[0,4]])))\n",
    "print(\"Quadratic form form P to Q:\", QuadraticForm(np.array([0,0]), np.array([1, 0]), np.matrix([[2,0],[0,4]])))\n",
    "print(\"Quadratic form form P to Q:\", QuadraticForm(np.array([0,0]), np.array([0,-2]), np.matrix([[2,0],[0,4]])))"
   ],
   "metadata": {
    "collapsed": false,
    "pycharm": {
     "name": "#%%\n"
    }
   }
  },
  {
   "cell_type": "markdown",
   "source": [
    "a) Extract from each picture a color histogram with the bins red, orange, and blue (the white pixels are\n",
    "ignore"
   ],
   "metadata": {
    "collapsed": false,
    "pycharm": {
     "name": "#%% md\n"
    }
   }
  },
  {
   "cell_type": "code",
   "execution_count": 7,
   "outputs": [],
   "source": [
    "q = np.array([1, 8, 7])\n",
    "a1 = np.array([1, 4, 4])\n",
    "b1 = np.array([8, 1, 7])\n",
    "c1 = np.array([2, 4, 10])\n",
    "d1 = np.array([1, 2, 13])"
   ],
   "metadata": {
    "collapsed": false,
    "pycharm": {
     "name": "#%%\n"
    }
   }
  },
  {
   "cell_type": "markdown",
   "source": [
    "(b) Which pictures are most similar to the query q, using Euclidean distance? Give a ranking according to\n",
    "similarity to"
   ],
   "metadata": {
    "collapsed": false,
    "pycharm": {
     "name": "#%% md\n"
    }
   }
  },
  {
   "cell_type": "code",
   "execution_count": 8,
   "outputs": [
    {
     "name": "stdout",
     "output_type": "stream",
     "text": [
      "What distance are most similar to the query q: [5.0, 9.899494936611665, 5.0990195135927845, 8.48528137423857]\n"
     ]
    }
   ],
   "source": [
    "plot1 = math.sqrt(sum([(a-b)**2 for a, b in zip(q, a1)]))\n",
    "plot2 = math.sqrt(sum([(a-b)**2 for a, b in zip(q, b1)]))\n",
    "plot3 = math.sqrt(sum([(a-b)**2 for a, b in zip(q, c1)]))\n",
    "plot4 = math.sqrt(sum([(a-b)**2 for a, b in zip(q, d1)]))\n",
    "\n",
    "print(\"What distance are most similar to the query q:\", list([plot1, plot2, plot3, plot4]))\n",
    "\n",
    "#so the first plot by figure a is the most similar"
   ],
   "metadata": {
    "collapsed": false,
    "pycharm": {
     "name": "#%%\n"
    }
   }
  },
  {
   "cell_type": "markdown",
   "source": [
    "(c) The results are not entirely satisfactory. What could you change in the feature extraction or in the distance function to get better results? Report the improved feature extraction and features or the improved\n",
    "distance function"
   ],
   "metadata": {
    "collapsed": false,
    "pycharm": {
     "name": "#%% md\n"
    }
   }
  },
  {
   "cell_type": "markdown",
   "source": [
    "Debatably, picture b is more similar to q than a or d are. The problem is that the Euclidean distance takes\n",
    "each color individually to compute the distance but does not take similarity between different colors (i.e.,\n",
    "bins in the histogram) into account.\n",
    "\n",
    "A solution would be to use the quadratic form (a.k.a. Mahalanobis-) distance. We need a similarity matrix\n",
    "to define the (subjective) similarity of bins with each other:"
   ],
   "metadata": {
    "collapsed": false,
    "pycharm": {
     "name": "#%% md\n"
    }
   }
  },
  {
   "cell_type": "code",
   "execution_count": 9,
   "outputs": [
    {
     "name": "stdout",
     "output_type": "stream",
     "text": [
      "figure a from P to Quadratic form Q: 5.0\n",
      "figure b from P to Quadratic form Q: 3.130495168499706\n",
      "figure c from P to Quadratic form Q: 4.33589667773576\n",
      "figure d from P to Quadratic form Q: 8.48528137423857\n"
     ]
    }
   ],
   "source": [
    "M3 = np.matrix([[1, 0.9, 0], [0.9, 1, 0], [0,0,1]]) #havde matrix været med (1,0,0);(0,1,0);(0,0,1) havde svaret været præcis det samme som før (kig på slide 131)\n",
    "\n",
    "print(\"figure a from P to Quadratic form Q:\", QuadraticForm(q, a1, M3))\n",
    "print(\"figure b from P to Quadratic form Q:\", QuadraticForm(q, b1, M3))\n",
    "print(\"figure c from P to Quadratic form Q:\", QuadraticForm(q, c1, M3))\n",
    "print(\"figure d from P to Quadratic form Q:\", QuadraticForm(q, d1, M3))\n",
    "\n",
    "#with the Quadratic form distance the figure b is the most similar to figure q"
   ],
   "metadata": {
    "collapsed": false,
    "pycharm": {
     "name": "#%%\n"
    }
   }
  },
  {
   "cell_type": "markdown",
   "source": [
    "Exercise 4-3 Distances on a database"
   ],
   "metadata": {
    "collapsed": false,
    "pycharm": {
     "name": "#%% md\n"
    }
   }
  },
  {
   "cell_type": "code",
   "execution_count": 10,
   "outputs": [
    {
     "name": "stdout",
     "output_type": "stream",
     "text": [
      "Euclidean distance from X to Y: 1.4142135623730951\n"
     ]
    }
   ],
   "source": [
    "X = np.array([0, 1, 0, 1, 2, 3])\n",
    "Y = np.array([1, 1, 1, 1, 2, 3])\n",
    "\n",
    "distance = math.sqrt(sum([(a-b)**2 for a, b in zip(X, Y)]))\n",
    "print(\"Euclidean distance from X to Y:\", distance)"
   ],
   "metadata": {
    "collapsed": false,
    "pycharm": {
     "name": "#%%\n"
    }
   }
  },
  {
   "cell_type": "markdown",
   "source": [
    "Exercise 4-5 k-means 1-dimensional Example (1 point)"
   ],
   "metadata": {
    "collapsed": false,
    "pycharm": {
     "name": "#%% md\n"
    }
   }
  },
  {
   "cell_type": "code",
   "execution_count": 11,
   "outputs": [
    {
     "name": "stdout",
     "output_type": "stream",
     "text": [
      "2.5\n",
      "4.0\n",
      "18.0\n",
      "2.5\n",
      "8.333333333333334\n",
      "21.75\n",
      "3.0\n",
      "11.0\n",
      "25.0\n"
     ]
    }
   ],
   "source": [
    "points = [2, 3, 4, 10, 11, 12, 20, 25, 30]\n",
    "k = 3\n",
    "u1 = 2\n",
    "u2 = 4\n",
    "u3 = 6\n",
    "#First step is the assignment of the clusters. Each point is assigned to the clusters which is its nearest. The initial cluster assignment is given by:\n",
    "c1 = [2,3]\n",
    "c2 = [4]\n",
    "c3 = [10, 11, 12, 20, 25, 30]\n",
    "\n",
    "#Next step is the cluster update. The mean of the new clusters are updated by finding mean of the points present in it. For cluster 1,\n",
    "\n",
    "cluster1 = sum(c1)/len(c1)\n",
    "print(cluster1)\n",
    "\n",
    "#cluster 2\n",
    "cluster2 = sum(c2)/len(c2)\n",
    "print(cluster2)\n",
    "\n",
    "#cluster 3\n",
    "cluster3 = sum(c3)/len(c3)\n",
    "print(cluster3)\n",
    "\n",
    "#This new means will be considered for cluster assignment in iteration 2. so cluster_i is the new 3 means\n",
    "\n",
    "#the new clusters\n",
    "c1_1 = [2,3]\n",
    "c2_2 = [4,10,11]\n",
    "c3_3 = [12,20,25,30]\n",
    "\n",
    "#cluster 1_1\n",
    "cluster1_1 = sum(c1_1)/len(c1_1)\n",
    "print(cluster1_1)\n",
    "\n",
    "#cluster 2_2\n",
    "cluster1_2 = sum(c2_2)/len(c2_2)\n",
    "print(cluster1_2)\n",
    "\n",
    "# cluster 3_3\n",
    "cluster1_3 = sum(c3_3)/len(c3_3)\n",
    "print(cluster1_3)\n",
    "\n",
    "#the next iteration\n",
    "#the new clusters\n",
    "c1_1_1 = [2,3,4]\n",
    "c2_2_2 = [10, 11, 12]\n",
    "c3_3_3 = [20,25,30]\n",
    "\n",
    "#cluster 1_1_1\n",
    "cluster1_1_1 = sum(c1_1_1)/len(c1_1_1)\n",
    "print(cluster1_1_1)\n",
    "\n",
    "#cluster 1_1_1\n",
    "cluster2_2_2 = sum(c2_2_2)/len(c2_2_2)\n",
    "print(cluster2_2_2)\n",
    "\n",
    "#cluster 1_1_1\n",
    "cluster3_3_3 = sum(c3_3_3)/len(c3_3_3)\n",
    "print(cluster3_3_3)\n",
    "\n",
    "#now convergence has been meet and the iterations stops. we get the following 3 new centroids u1 = 3, u2 = 11 and u3 = 25\n"
   ],
   "metadata": {
    "collapsed": false,
    "pycharm": {
     "name": "#%%\n"
    }
   }
  },
  {
   "cell_type": "markdown",
   "source": [
    "Exercise 5: Clustering: k-means and Silhouette"
   ],
   "metadata": {
    "collapsed": false,
    "pycharm": {
     "name": "#%% md\n"
    }
   }
  },
  {
   "cell_type": "markdown",
   "source": [
    "Exercise 5-1 Silhouette Coefficient (1 point)"
   ],
   "metadata": {
    "collapsed": false,
    "pycharm": {
     "name": "#%% md\n"
    }
   }
  },
  {
   "cell_type": "code",
   "execution_count": 12,
   "outputs": [
    {
     "name": "stdout",
     "output_type": "stream",
     "text": [
      "The simplified silhoutte coefficient is: 0.6937939026296913\n"
     ]
    }
   ],
   "source": [
    "centroid1x = np.array([4])\n",
    "centroid1y = np.array([3.25])\n",
    "centroid2x = np.array([6.75])\n",
    "centroid2y = np.array([8])\n",
    "clu1x = np.array([10, 2, 3, 1])\n",
    "clu1y = np.array([1, 3, 4, 5])\n",
    "clu2x = np.array([7, 6, 7, 7])\n",
    "clu2y = np.array([7, 8, 8, 9])\n",
    "\n",
    "#med en funktion kan vi beregne a(o) og b(o) ud for hvert punkt\n",
    "def get_total_distance(a, b, c, d):\n",
    "    for i in b:\n",
    "        for j in a:\n",
    "            p = b - a\n",
    "    for x in d:\n",
    "        for y in c:\n",
    "            q = d - c\n",
    "    return np.array(np.sqrt((p*p) + (q*q)))\n",
    "\n",
    "s_a = get_total_distance(clu1x, centroid1x, clu1y, centroid1y)\n",
    "s_b = get_total_distance(clu1x, centroid2x, clu1y, centroid2y)\n",
    "s_a2 = get_total_distance(clu2x, centroid2x, clu2y, centroid2y)\n",
    "s_b2 = get_total_distance(clu2x, centroid1x, clu2y, centroid1y)\n",
    "\n",
    "##herefter beregner vi hver s(o) og summere dem sammen for at få the simplified silhoutte coefficient\n",
    "tester2 = sum([(b-a)/max(a,b) for a, b in zip(s_a, s_b)])\n",
    "tester3 = sum([(b-a)/max(a,b) for a, b in zip(s_a2, s_b2)])\n",
    "print(\"The simplified silhoutte coefficient is:\",(tester2+tester3)/8)\n"
   ],
   "metadata": {
    "collapsed": false,
    "pycharm": {
     "name": "#%%\n"
    }
   }
  },
  {
   "cell_type": "code",
   "execution_count": 13,
   "outputs": [],
   "source": [
    "#datapoints in figure 1\n",
    "centroid1x = np.array([4])\n",
    "centroid1y = np.array([3.25])\n",
    "centroid2x = np.array([6.75])\n",
    "centroid2y = np.array([8])\n",
    "clu1x = np.array([10, 2, 3, 1])\n",
    "clu1y = np.array([1, 3, 4, 5])\n",
    "clu2x = np.array([7, 6, 7, 7])\n",
    "clu2y = np.array([7, 8, 8, 9])\n",
    "\n",
    "#datapoints in figure 2\n",
    "centroid1x_2 = np.array([10])\n",
    "centroid1y_2 = np.array([1])\n",
    "centroid2x_2 = np.array([4.75])\n",
    "centroid2y_2 = np.array([6.3])\n",
    "clu1x_2 = np.array([10])\n",
    "clu1y_2 = np.array([1])\n",
    "clu2x_2 = np.array([2, 3, 1, 7, 6, 7, 7])\n",
    "clu2y_2 = np.array([3, 4, 5, 7, 8, 8, 9])\n",
    "\n",
    "\n",
    "#datapoints in figure 3\n",
    "centroid1x_3 = np.array([2])\n",
    "centroid1y_3 = np.array([4])\n",
    "centroid2x_3 = np.array([7.4])\n",
    "centroid2y_3 = np.array([6.6])\n",
    "clu1x_3 = np.array([2, 3, 1])\n",
    "clu1y_3 = np.array([3, 4, 5])\n",
    "clu2x_3 = np.array([10, 7, 6, 7, 7])\n",
    "clu2y_3 = np.array([1, 7, 8, 8, 9])\n"
   ],
   "metadata": {
    "collapsed": false,
    "pycharm": {
     "name": "#%%\n"
    }
   }
  },
  {
   "cell_type": "code",
   "execution_count": 14,
   "outputs": [
    {
     "name": "stdout",
     "output_type": "stream",
     "text": [
      "The measure of compactness for a cluster C aka Sum of squares figure 1: 61.5\n",
      "The measure of compactness for a cluster C aka Sum of squares figure 2: 72.8675\n",
      "The measure of compactness for a cluster C aka Sum of squares figure 3: 54.400000000000006\n"
     ]
    }
   ],
   "source": [
    "#TD^2 for the 3 figures\n",
    "def get_total_distance(a, b, c, d):\n",
    "    for i in b:\n",
    "        for j in a:\n",
    "            p = b - a\n",
    "    for x in d:\n",
    "        for y in c:\n",
    "            q = d - c\n",
    "    return (p*p).sum() + (q*q).sum()\n",
    "\n",
    "print(\"The measure of compactness for a cluster C aka Sum of squares figure 1:\", get_total_distance(clu1x, centroid1x, clu1y, centroid1y)+get_total_distance(clu2x, centroid2x, clu2y, centroid2y))\n",
    "print(\"The measure of compactness for a cluster C aka Sum of squares figure 2:\", get_total_distance(clu1x_2, centroid1x_2, clu1y_2, centroid1y_2)+get_total_distance(clu2x_2, centroid2x_2, clu2y_2, centroid2y_2))\n",
    "print(\"The measure of compactness for a cluster C aka Sum of squares figure 3:\", get_total_distance(clu1x_3, centroid1x_3, clu1y_3, centroid1y_3)+get_total_distance(clu2x_3, centroid2x_3, clu2y_3, centroid2y_3))"
   ],
   "metadata": {
    "collapsed": false,
    "pycharm": {
     "name": "#%%\n"
    }
   }
  },
  {
   "cell_type": "code",
   "execution_count": 15,
   "outputs": [
    {
     "name": "stdout",
     "output_type": "stream",
     "text": [
      "The simplified silhoutte coefficient for S1 is: 0.7543650793650792\n",
      "4.0\n",
      "9.0\n",
      "4.0\n",
      "5.0\n",
      "13.5\n",
      "7.5\n",
      "The simplified silhoutte coefficient for S2 is: 0.7880952380952382\n",
      "The simplified silhoutte coefficient for S3 is: 0.7666666666666667\n"
     ]
    }
   ],
   "source": [
    "##TIL MCQ 4\n",
    "\n",
    "#for S1\n",
    "clusterm1 = np.array([1, 3, 5])\n",
    "clusterm2 = np.array([7, 10, 11, 12])\n",
    "centroidm1 = np.array([np.sum(clusterm1)/ len(clusterm1)])\n",
    "centroidm2 = np.array([np.sum(clusterm2)/ len(clusterm2)])\n",
    "\n",
    "#for S2\n",
    "\n",
    "s21 = np.array([1, 3])\n",
    "s22 = np.array([5, 7])\n",
    "s23 = np.array([10, 11, 12])\n",
    "sct21 = np.array([np.sum(s21)/ len(s21)])\n",
    "sct22 = np.array([np.sum(s22)/ len(s22)])\n",
    "sct23 = np.array([np.sum(s23)/ len(s23)])\n",
    "\n",
    "#for S3\n",
    "\n",
    "s31 = np.array([1, 3, 5, 7])\n",
    "s32 = np.array([10, 11, 12])\n",
    "sct31 = np.array([np.sum(s31)/ len(s31)])\n",
    "sct32 = np.array([np.sum(s32)/ len(s32)])\n",
    "\n",
    "def get_total_distanceMSC(a, b):\n",
    "    for i in b:\n",
    "        for j in a:\n",
    "            p = b - a\n",
    "    return np.array(np.sqrt((p*p)))\n",
    "\n",
    "\n",
    "#for S1\n",
    "s_am = get_total_distanceMSC(clusterm1, centroidm1)\n",
    "s_bm = get_total_distanceMSC(clusterm1, centroidm2)\n",
    "s_am2 = get_total_distanceMSC(clusterm2, centroidm2)\n",
    "s_bm2 = get_total_distanceMSC(clusterm2, centroidm1)\n",
    "\n",
    "##herefter beregner vi hver s(o) og summere dem sammen for at få the simplified silhoutte coefficient\n",
    "testerm1 = sum([(b-a)/max(a,b) for a, b in zip(s_am, s_bm)])\n",
    "testerm2 = sum([(b-a)/max(a,b) for a, b in zip(s_am2, s_bm2)])\n",
    "print(\"The simplified silhoutte coefficient for S1 is:\",(testerm1+testerm2)/(len(clusterm1)+len(clusterm2)))\n",
    "\n",
    "#for S2 #regn den ud manuelt svært, når der er tale om 3\n",
    "s_am21 = get_total_distanceMSC(s21, sct21)\n",
    "s_bm21 = get_total_distanceMSC(s21, sct22)\n",
    "print(np.sum(s_bm21)/2) #pick this one in the code below its the lowest\n",
    "s_bm212 = get_total_distanceMSC(s21, sct23)\n",
    "print(np.sum(s_bm212)/2)\n",
    "\n",
    "s_am22 = get_total_distanceMSC(s22, sct22)\n",
    "s_bm22 = get_total_distanceMSC(s22, sct21)\n",
    "print(np.sum(s_bm22)/2) #pick this one in the code below its the lowest\n",
    "s_bm222 = get_total_distanceMSC(s22, sct23)\n",
    "print(np.sum(s_bm222)/2)\n",
    "\n",
    "s_am223 = get_total_distanceMSC(s23, sct23)\n",
    "s_bm223 = get_total_distanceMSC(s23, sct21)\n",
    "print(np.sum(s_bm223)/2)\n",
    "s_bm2232 = get_total_distanceMSC(s23, sct22)\n",
    "print(np.sum(s_bm2232)/2) #pick this one in the code below its the lowest\n",
    "\n",
    "##herefter beregner vi hver s(o) og summere dem sammen for at få the simplified silhoutte coefficient\n",
    "testerm12 = sum([(b-a)/max(a,b) for a, b in zip(s_am21, s_bm21)])\n",
    "testerm22 = sum([(b-a)/max(a,b) for a, b in zip(s_am22, s_bm22)])\n",
    "testerm233 = sum([(b-a)/max(a,b) for a, b in zip(s_am223, s_bm2232)])\n",
    "\n",
    "print(\"The simplified silhoutte coefficient for S2 is:\",(testerm12+testerm22+testerm233)/(len(s21)+len(s22)+len(s23)))\n",
    "\n",
    "#for S3\n",
    "s_am3 = get_total_distanceMSC(s31, sct31)\n",
    "s_bm3 = get_total_distanceMSC(s31, sct32)\n",
    "s_am23 = get_total_distanceMSC(s32, sct32)\n",
    "s_bm23 = get_total_distanceMSC(s32, sct31)\n",
    "\n",
    "##herefter beregner vi hver s(o) og summere dem sammen for at få the simplified silhoutte coefficient\n",
    "testerm13 = sum([(b-a)/max(a,b) for a, b in zip(s_am3, s_bm3)])\n",
    "testerm23 = sum([(b-a)/max(a,b) for a, b in zip(s_am23, s_bm23)])\n",
    "print(\"The simplified silhoutte coefficient for S3 is:\",(testerm13+testerm23)/(len(s31)+len(s32)))\n"
   ],
   "metadata": {
    "collapsed": false,
    "pycharm": {
     "name": "#%%\n"
    }
   }
  },
  {
   "cell_type": "code",
   "execution_count": 16,
   "outputs": [
    {
     "name": "stdout",
     "output_type": "stream",
     "text": [
      "TD1 for S1: 22.0\n",
      "TD2 for S2: 6.0\n",
      "TD3 for S3: 22.0\n"
     ]
    }
   ],
   "source": [
    "#DEFINITION s = CLUSTER og sct = centroid (DETTE ER TIL MCQ3)\n",
    "\n",
    "#for S1\n",
    "\n",
    "clusterm1 = np.array([1, 3, 5])\n",
    "clusterm2 = np.array([7, 10, 11, 12])\n",
    "centroidm1 = np.array([np.sum(clusterm1)/ len(clusterm1)])\n",
    "centroidm2 = np.array([np.sum(clusterm2)/ len(clusterm2)])\n",
    "\n",
    "#for S2\n",
    "\n",
    "s21 = np.array([1, 3])\n",
    "s22 = np.array([5, 7])\n",
    "s23 = np.array([10, 11, 12])\n",
    "sct21 = np.array([np.sum(s21)/ len(s21)])\n",
    "sct22 = np.array([np.sum(s22)/ len(s22)])\n",
    "sct23 = np.array([np.sum(s23)/ len(s23)])\n",
    "\n",
    "#for S3\n",
    "\n",
    "s31 = np.array([1, 3, 5, 7])\n",
    "s32 = np.array([10, 11, 12])\n",
    "sct31 = np.array([np.sum(s31)/ len(s31)])\n",
    "sct32 = np.array([np.sum(s32)/ len(s32)])\n",
    "\n",
    "#TD^2 for the 3 figures\n",
    "def get_total_distanceMSQ(a, b):\n",
    "    for i in b:\n",
    "        for j in a:\n",
    "            p = b - a\n",
    "    return (p*p).sum()\n",
    "\n",
    "\n",
    "print(\"TD1 for S1:\", get_total_distanceMSQ(clusterm1, centroidm1) + get_total_distanceMSQ(clusterm2, centroidm2))\n",
    "print(\"TD2 for S2:\", get_total_distanceMSQ(s21, sct21) + get_total_distanceMSQ(s22, sct22) + get_total_distanceMSQ(s23, sct23))\n",
    "print(\"TD3 for S3:\", get_total_distanceMSQ(s31, sct31) + get_total_distanceMSQ(s32, sct32))\n"
   ],
   "metadata": {
    "collapsed": false,
    "pycharm": {
     "name": "#%%\n"
    }
   }
  },
  {
   "cell_type": "markdown",
   "source": [],
   "metadata": {
    "collapsed": false,
    "pycharm": {
     "name": "#%% md\n"
    }
   }
  }
 ],
 "metadata": {
  "kernelspec": {
   "display_name": "Python 3",
   "language": "python",
   "name": "python3"
  },
  "language_info": {
   "codemirror_mode": {
    "name": "ipython",
    "version": 2
   },
   "file_extension": ".py",
   "mimetype": "text/x-python",
   "name": "python",
   "nbconvert_exporter": "python",
   "pygments_lexer": "ipython2",
   "version": "2.7.6"
  }
 },
 "nbformat": 4,
 "nbformat_minor": 0
}