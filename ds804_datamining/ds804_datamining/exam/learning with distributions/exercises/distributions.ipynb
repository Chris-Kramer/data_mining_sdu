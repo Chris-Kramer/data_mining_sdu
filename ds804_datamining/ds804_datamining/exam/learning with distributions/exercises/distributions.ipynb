{
 "cells": [
  {
   "cell_type": "markdown",
   "metadata": {},
   "source": [
    "# Learning with Distributions"
   ]
  },
  {
   "cell_type": "markdown",
   "metadata": {},
   "source": [
    "![title](imgs/Screenshot_1.png)"
   ]
  },
  {
   "cell_type": "markdown",
   "metadata": {},
   "source": [
    "For each cluster the probability estimates is given by:  \n",
    "\n",
    "![title](imgs/Screenshot_24.png)  \n",
    "\n",
    "Here d is refering to the number of dimensions"
   ]
  },
  {
   "cell_type": "code",
   "execution_count": 8,
   "metadata": {},
   "outputs": [],
   "source": [
    "from math import pi, sqrt, e\n",
    "import numpy as np\n",
    "\n",
    "def get_cluster_prob(sigma: np.ndarray, mean_vector: np.ndarray, x: np.ndarray):\n",
    "    \"\"\" \n",
    "    Takes a point x, a sigma, a mean vector\n",
    "    returns the probability density function\n",
    "    \"\"\"\n",
    "\n",
    "    sigma_inverse = np.linalg.inv(sigma)\n",
    "    d = len(x)\n",
    "    x_minus_mean = x - mean_vector \n",
    "    distance = x_minus_mean @ sigma_inverse @ np.transpose(x_minus_mean)\n",
    "\n",
    "    dividing_part = 1 / sqrt( (2*pi)**d * np.linalg.det(sigma))\n",
    "    return dividing_part * e**(-(1/2) * distance)\n",
    "\n",
    "\n"
   ]
  },
  {
   "cell_type": "markdown",
   "metadata": {},
   "source": [
    "Cluster A"
   ]
  },
  {
   "cell_type": "code",
   "execution_count": 9,
   "metadata": {},
   "outputs": [
    {
     "data": {
      "text/plain": [
       "0.04307456098861524"
      ]
     },
     "execution_count": 9,
     "metadata": {},
     "output_type": "execute_result"
    }
   ],
   "source": [
    "sigma_A = np.array([\n",
    "    [3, 0],\n",
    "    [0, 3]\n",
    "])\n",
    "x = np.array([2.5, 3])\n",
    "mean_a = np.array([2, 2])\n",
    "\n",
    "pdf_a = get_cluster_prob(sigma_A, mean_a, x)\n",
    "pdf_a"
   ]
  },
  {
   "cell_type": "code",
   "execution_count": 10,
   "metadata": {},
   "outputs": [
    {
     "data": {
      "text/plain": [
       "0.010086610510705838"
      ]
     },
     "execution_count": 10,
     "metadata": {},
     "output_type": "execute_result"
    }
   ],
   "source": [
    "sigma_B = np.array([\n",
    "    [2, 1],\n",
    "    [1, 4]\n",
    "])\n",
    "mean_B = np.array([5, 3])\n",
    "\n",
    "pdf_b = get_cluster_prob(sigma_B, mean_B, x)\n",
    "pdf_b"
   ]
  },
  {
   "cell_type": "code",
   "execution_count": 11,
   "metadata": {},
   "outputs": [
    {
     "data": {
      "text/plain": [
       "0.016364660641528687"
      ]
     },
     "execution_count": 11,
     "metadata": {},
     "output_type": "execute_result"
    }
   ],
   "source": [
    "sigma_C = np.array([\n",
    "    [16, 0],\n",
    "    [0, 4]\n",
    "])\n",
    "mean_C = np.array([1, 4])\n",
    "\n",
    "pdf_C = get_cluster_prob(sigma_C, mean_C, x)\n",
    "pdf_C"
   ]
  },
  {
   "cell_type": "markdown",
   "metadata": {},
   "source": [
    "The probabilities are given by:  \n",
    "The first formula is the PDF we just calculated\n",
    "\n",
    "![title](imgs/Screenshot_3.png)\n",
    "![title](imgs/Screenshot_2.png)  \n",
    "![title](imgs/Screenshot_4.png)"
   ]
  },
  {
   "cell_type": "code",
   "execution_count": 12,
   "metadata": {},
   "outputs": [
    {
     "name": "stdout",
     "output_type": "stream",
     "text": [
      "probability of A: 0.5588771177638471\n",
      "\n",
      "probability of A: 0.08724679069423721\n",
      "\n",
      "probability of A: 0.3538760915419156\n",
      "\n"
     ]
    }
   ],
   "source": [
    "prob_A =  ( (pdf_a * 0.3 ) / ( (0.3 * pdf_a) + (0.2 * pdf_b) + (0.5 * pdf_C) ) )\n",
    "print(f\"probability of A: {prob_A}\")  \n",
    "print()\n",
    "\n",
    "prob_B =  ( (pdf_b * 0.2 ) / ( (0.3 * pdf_a) + (0.2 * pdf_b) + (0.5 * pdf_C) ) )\n",
    "print(f\"probability of A: {prob_B}\")  \n",
    "print()\n",
    "\n",
    "prob_C =  ( (pdf_C * 0.5 ) / ( (0.3 * pdf_a) + (0.2 * pdf_b) + (0.5 * pdf_C) ) )\n",
    "print(f\"probability of A: {prob_C}\")  \n",
    "print()\n"
   ]
  },
  {
   "cell_type": "markdown",
   "metadata": {},
   "source": [
    "![title](imgs/Screenshot_5.png)"
   ]
  },
  {
   "cell_type": "markdown",
   "metadata": {},
   "source": [
    "This is the neares neighbour density estimation:  \n",
    "![title](imgs/Screenshot_6.png)  \n",
    "\n",
    "Here V is the volume function"
   ]
  },
  {
   "cell_type": "code",
   "execution_count": 13,
   "metadata": {},
   "outputs": [],
   "source": [
    "def euclidian_dist(point_1: list[int | float], point_2: list[int | float]) -> float:\n",
    "    \"\"\" \n",
    "    Returns the euclidian distance between two points\n",
    "    \"\"\"\n",
    "    res = []\n",
    "    for p_1, p_2 in zip(point_1, point_2):\n",
    "        res.append((abs(p_1 - p_2))**2)\n",
    "        \n",
    "    return sum(res)**(1/2)\n",
    "\n",
    "\n",
    "def manhattan_dist(point_1: list[int | float], point_2: list[int | float]) -> float:\n",
    "    \"\"\" \n",
    "    Returns the manhattan distance between two points\n",
    "    \"\"\"\n",
    "    res = []\n",
    "    for p_1, p_2 in zip(point_1, point_2):\n",
    "        res.append(abs(p_1 - p_2))\n",
    "        \n",
    "    return sum(res)\n",
    "\n",
    "def get_k_smallest_indeces(input_list, k):\n",
    "        return sorted(range(len(input_list)), key=lambda sub: input_list[sub])[:k]\n",
    "\n",
    "\n",
    "def get_most_frequent_value(input_list):\n",
    "    return max(input_list, key = input_list.count)\n",
    "\n",
    "\n",
    "def get_k_neighbour(query: list[ int | float],\n",
    "                  points: list[int | float],\n",
    "                  k: int):\n",
    "    \"\"\"\n",
    "    Returns the k nearest neighbour to a point (a single neighbour)\n",
    "    \"\"\"\n",
    "\n",
    "    distances = []\n",
    "    for p in points:\n",
    "        if p == query:\n",
    "            continue\n",
    "        distances.append(manhattan_dist(query, p))\n",
    "    knn = get_k_smallest_indeces(distances, k)\n",
    "    return points[knn[-1]]\n",
    "\n",
    "def manhattan_volume(r):\n",
    "    return 2 * r**2\n",
    "\n",
    "def manhantten_knn_density_func(k, n, point, nearest_neighbor):\n",
    "    dist = manhattan_dist(point, nearest_neighbor)\n",
    "    return k / ( n * manhattan_volume(dist) )\n",
    "\n",
    "def knn_kernel_density(k, points):\n",
    "    n = len(points)\n",
    "    for point in points:\n",
    "        nearest_neighbour = get_k_neighbour(point, points, k)\n",
    "        kernel_density = manhantten_knn_density_func(k, n, point, nearest_neighbour)\n",
    "        print(f\"Density at point {point} : {kernel_density}\")"
   ]
  },
  {
   "cell_type": "code",
   "execution_count": 14,
   "metadata": {},
   "outputs": [
    {
     "name": "stdout",
     "output_type": "stream",
     "text": [
      "Density at point [1, 1] : 0.02631578947368421\n",
      "Density at point [1, 2] : 0.10526315789473684\n",
      "Density at point [2, 1] : 0.10526315789473684\n"
     ]
    },
    {
     "ename": "ZeroDivisionError",
     "evalue": "division by zero",
     "output_type": "error",
     "traceback": [
      "\u001b[1;31m---------------------------------------------------------------------------\u001b[0m",
      "\u001b[1;31mZeroDivisionError\u001b[0m                         Traceback (most recent call last)",
      "Cell \u001b[1;32mIn [14], line 23\u001b[0m\n\u001b[0;32m      1\u001b[0m points \u001b[39m=\u001b[39m [\n\u001b[0;32m      2\u001b[0m     [\u001b[39m1\u001b[39m, \u001b[39m1\u001b[39m],\n\u001b[0;32m      3\u001b[0m     [\u001b[39m1\u001b[39m, \u001b[39m2\u001b[39m],\n\u001b[1;32m   (...)\u001b[0m\n\u001b[0;32m     20\u001b[0m     [\u001b[39m11\u001b[39m, \u001b[39m5\u001b[39m]\n\u001b[0;32m     21\u001b[0m ]\n\u001b[1;32m---> 23\u001b[0m knn_kernel_density(k \u001b[39m=\u001b[39;49m \u001b[39m4\u001b[39;49m, points \u001b[39m=\u001b[39;49m points)\n",
      "Cell \u001b[1;32mIn [13], line 56\u001b[0m, in \u001b[0;36mknn_kernel_density\u001b[1;34m(k, points)\u001b[0m\n\u001b[0;32m     54\u001b[0m \u001b[39mfor\u001b[39;00m point \u001b[39min\u001b[39;00m points:\n\u001b[0;32m     55\u001b[0m     nearest_neighbour \u001b[39m=\u001b[39m get_k_neighbour(point, points, k)\n\u001b[1;32m---> 56\u001b[0m     kernel_density \u001b[39m=\u001b[39m manhantten_knn_density_func(k, n, point, nearest_neighbour)\n\u001b[0;32m     57\u001b[0m     \u001b[39mprint\u001b[39m(\u001b[39mf\u001b[39m\u001b[39m\"\u001b[39m\u001b[39mDensity at point \u001b[39m\u001b[39m{\u001b[39;00mpoint\u001b[39m}\u001b[39;00m\u001b[39m : \u001b[39m\u001b[39m{\u001b[39;00mkernel_density\u001b[39m}\u001b[39;00m\u001b[39m\"\u001b[39m)\n",
      "Cell \u001b[1;32mIn [13], line 50\u001b[0m, in \u001b[0;36mmanhantten_knn_density_func\u001b[1;34m(k, n, point, nearest_neighbor)\u001b[0m\n\u001b[0;32m     48\u001b[0m \u001b[39mdef\u001b[39;00m \u001b[39mmanhantten_knn_density_func\u001b[39m(k, n, point, nearest_neighbor):\n\u001b[0;32m     49\u001b[0m     dist \u001b[39m=\u001b[39m manhattan_dist(point, nearest_neighbor)\n\u001b[1;32m---> 50\u001b[0m     \u001b[39mreturn\u001b[39;00m k \u001b[39m/\u001b[39;49m ( n \u001b[39m*\u001b[39;49m manhattan_volume(dist) )\n",
      "\u001b[1;31mZeroDivisionError\u001b[0m: division by zero"
     ]
    }
   ],
   "source": [
    "points = [\n",
    "    [1, 1],\n",
    "    [1, 2],\n",
    "    [2, 1],\n",
    "    [2, 2],\n",
    "    [3, 5],\n",
    "    [3, 9],\n",
    "    [3, 10],\n",
    "    [4, 10],\n",
    "    [4, 11],\n",
    "    [7, 10],\n",
    "    [9, 4],\n",
    "    [9, 5],\n",
    "    [10, 3],\n",
    "    [10, 4],\n",
    "    [10, 5],\n",
    "    [10, 6],\n",
    "    [10, 10],\n",
    "    [11, 4],\n",
    "    [11, 5]\n",
    "]\n",
    "\n",
    "knn_kernel_density(k = 4, points = points)"
   ]
  },
  {
   "cell_type": "markdown",
   "metadata": {},
   "source": [
    "![title](imgs/Screenshot_7.png)"
   ]
  },
  {
   "cell_type": "markdown",
   "metadata": {},
   "source": [
    "# Exercise 10"
   ]
  },
  {
   "cell_type": "markdown",
   "metadata": {},
   "source": [
    "![title](imgs/Screenshot_8.png)"
   ]
  },
  {
   "cell_type": "code",
   "execution_count": 15,
   "metadata": {},
   "outputs": [],
   "source": [
    "\n",
    "def get_unique_vals(my_list):\n",
    "    unique_list = []\n",
    "    for val in my_list:\n",
    "        if val not in unique_list:\n",
    "            unique_list.append(val)\n",
    "    return unique_list\n",
    "\n",
    "def manhattan_dist(point_1: list[int | float], point_2: list[int | float]) -> float:\n",
    "    \"\"\" \n",
    "    Returns the manhattan distance between two points\n",
    "    \"\"\"\n",
    "    res = []\n",
    "    for p_1, p_2 in zip(point_1, point_2):\n",
    "        res.append(abs(p_1 - p_2))\n",
    "        \n",
    "    return sum(res)\n",
    "\n",
    "def get_k_smallest_indeces(input_list, k):\n",
    "        return sorted(range(len(input_list)), key=lambda sub: input_list[sub])[:k]\n",
    "\n",
    "\n",
    "def get_most_frequent_value(input_list):\n",
    "    return max(input_list, key = input_list.count)\n",
    "\n",
    "\n",
    "def get_k_neighbours(query: list[ int | float],\n",
    "                  points: list[int | float],\n",
    "                  k: int):\n",
    "    \"\"\"\n",
    "    Returns the k nearest neighbour to a point (a single neighbour)\n",
    "    \"\"\"\n",
    "\n",
    "    distances = []\n",
    "    for p in points:\n",
    "        distances.append(manhattan_dist(query, p))\n",
    "    nearest_neighbours = get_k_smallest_indeces(distances, k)\n",
    "    return [points[neighbour] for neighbour in nearest_neighbours]\n",
    "\n",
    "def SNN(points, queries, k):\n",
    "    \n",
    "    \n",
    "    total_neighbours = []\n",
    "    for q in queries:\n",
    "        neighbours = get_k_neighbours(q, points, k)\n",
    "        \n",
    "        for neighbour in neighbours:\n",
    "            total_neighbours.append(neighbour)\n",
    "    total_neighbours = get_unique_vals(total_neighbours)\n",
    "    return len(total_neighbours)\n",
    "\n",
    "        "
   ]
  },
  {
   "cell_type": "code",
   "execution_count": 16,
   "metadata": {},
   "outputs": [
    {
     "data": {
      "text/plain": [
       "8"
      ]
     },
     "execution_count": 16,
     "metadata": {},
     "output_type": "execute_result"
    }
   ],
   "source": [
    "queries = [\n",
    "    [10, 6],\n",
    "    [9, 5],\n",
    "    [10, 5],\n",
    "    [11, 5],\n",
    "    [9, 4],\n",
    "    [10, 4],\n",
    "    [11, 4]\n",
    "]\n",
    "\n",
    "points = [\n",
    "    [1, 1],\n",
    "    [1, 2],\n",
    "    [2, 1],\n",
    "    [2, 2],\n",
    "    [3, 5],\n",
    "    [3, 9],\n",
    "    [3, 10],\n",
    "    [4, 10],\n",
    "    [4, 11],\n",
    "    [7, 10],\n",
    "    [9, 4],\n",
    "    [9, 5],\n",
    "    [10, 3],\n",
    "    [10, 4],\n",
    "    [10, 5],\n",
    "    [10, 6],\n",
    "    [10, 10],\n",
    "    [11, 4],\n",
    "    [11, 5]\n",
    "]\n",
    "\n",
    "\n",
    "SNN(points, queries, 5)"
   ]
  },
  {
   "cell_type": "code",
   "execution_count": 50,
   "metadata": {},
   "outputs": [],
   "source": [
    "import numpy\n",
    "\n",
    "def dbscan(D, eps, MinPts, verbose = True, snn = False, k = 5):\n",
    "    '''\n",
    "    Cluster the dataset `D` using the DBSCAN algorithm.\n",
    "    \n",
    "    dbscan takes a dataset `D` (a list of vectors), a threshold distance\n",
    "    `eps`, and a required number of points `MinPts`.\n",
    "    \n",
    "    It will return a list of cluster labels. The label -1 means noise, and then\n",
    "    the clusters are numbered starting from 1.\n",
    "    '''\n",
    " \n",
    "    # This list will hold the final cluster assignment for each point in D.\n",
    "    # There are two reserved values:\n",
    "    #    -1 - Indicates a noise point\n",
    "    #     0 - Means the point hasn't been considered yet.\n",
    "    # Initially all labels are 0.    \n",
    "    labels = [0]*len(D)\n",
    "\n",
    "    # C is the ID of the current cluster.    \n",
    "    C = 0\n",
    "    \n",
    "    # This outer loop is just responsible for picking new seed points--a point\n",
    "    # from which to grow a new cluster.\n",
    "    # Once a valid seed point is found, a new cluster is created, and the \n",
    "    # cluster growth is all handled by the 'expandCluster' routine.\n",
    "    \n",
    "    # For each point P in the Dataset D...\n",
    "    # ('P' is the index of the datapoint, rather than the datapoint itself.)\n",
    "    for P in range(0, len(D)):\n",
    "    \n",
    "        # Only points that have not already been claimed can be picked as new \n",
    "        # seed points.    \n",
    "        # If the point's label is not 0, continue to the next point.\n",
    "        if not (labels[P] == 0):\n",
    "           continue\n",
    "        \n",
    "        # Find all of P's neighboring points.\n",
    "        NeighborPts = region_query(D, P, eps, verbose, snn, k)\n",
    "        \n",
    "        # If the number is below MinPts, this point is noise. \n",
    "        # This is the only condition under which a point is labeled \n",
    "        # NOISE--when it's not a valid seed point. A NOISE point may later \n",
    "        # be picked up by another cluster as a boundary point (this is the only\n",
    "        # condition under which a cluster label can change--from NOISE to \n",
    "        # something else).\n",
    "        if len(NeighborPts) < MinPts:\n",
    "            labels[P] = -1\n",
    "        # Otherwise, if there are at least MinPts nearby, use this point as the \n",
    "        # seed for a new cluster.    \n",
    "        else: \n",
    "           C += 1\n",
    "           grow_cluster(D, labels, P, NeighborPts, C, eps, MinPts, verbose, snn, k)\n",
    "    \n",
    "    # All data has been clustered!\n",
    "    \n",
    "    for d, l in zip(D, labels):\n",
    "        print(f\"Point {d}, Cluster: {l}\")\n",
    "        \n",
    "    return labels\n",
    "\n",
    "\n",
    "def grow_cluster(D, labels, P, NeighborPts, C, eps, MinPts, verbose = True, snn = False, k = 5):\n",
    "    '''\n",
    "    Grow a new cluster with label `C` from the seed point `P`.\n",
    "    \n",
    "    This function searches through the dataset to find all points that belong\n",
    "    to this new cluster. When this function returns, cluster `C` is complete.\n",
    "    \n",
    "    Parameters:\n",
    "      `D`      - The dataset (a list of vectors)\n",
    "      `labels` - List storing the cluster labels for all dataset points\n",
    "      `P`      - Index of the seed point for this new cluster\n",
    "      `NeighborPts` - All of the neighbors of `P`\n",
    "      `C`      - The label for this new cluster.  \n",
    "      `eps`    - Threshold distance\n",
    "      `MinPts` - Minimum required number of neighbors\n",
    "    '''\n",
    "\n",
    "    # Assign the cluster label to the seed point.\n",
    "    labels[P] = C\n",
    "    \n",
    "    # Look at each neighbor of P (neighbors are referred to as Pn). \n",
    "    # NeighborPts will be used as a FIFO queue of points to search--that is, it\n",
    "    # will grow as we discover new branch points for the cluster. The FIFO\n",
    "    # behavior is accomplished by using a while-loop rather than a for-loop.\n",
    "    # In NeighborPts, the points are represented by their index in the original\n",
    "    # dataset.\n",
    "    i = 0\n",
    "    while i < len(NeighborPts):    \n",
    "        \n",
    "        # Get the next point from the queue.        \n",
    "        Pn = NeighborPts[i]\n",
    "       \n",
    "        # If Pn was labelled NOISE during the seed search, then we\n",
    "        # know it's not a branch point (it doesn't have enough neighbors), so\n",
    "        # make it a leaf point of cluster C and move on.\n",
    "        if labels[Pn] == -1:\n",
    "           labels[Pn] = C\n",
    "        \n",
    "        # Otherwise, if Pn isn't already claimed, claim it as part of C.\n",
    "        elif labels[Pn] == 0:\n",
    "            # Add Pn to cluster C (Assign cluster label C).\n",
    "            labels[Pn] = C\n",
    "            \n",
    "            # Find all the neighbors of Pn\n",
    "            PnNeighborPts = region_query(D, Pn, eps, verbose, snn, k)\n",
    "            \n",
    "            # If Pn has at least MinPts neighbors, it's a branch point!\n",
    "            # Add all of its neighbors to the FIFO queue to be searched. \n",
    "            print(PnNeighborPts)\n",
    "            if len(PnNeighborPts) >= MinPts:\n",
    "                NeighborPts = NeighborPts + PnNeighborPts\n",
    "            # If Pn *doesn't* have enough neighbors, then it's a leaf point.\n",
    "            # Don't queue up it's neighbors as expansion points.\n",
    "            #else:\n",
    "                # Do nothing                \n",
    "                #NeighborPts = NeighborPts               \n",
    "        \n",
    "        # Advance to the next point in the FIFO queue.\n",
    "        i += 1        \n",
    "    \n",
    "    # We've finished growing cluster C!\n",
    "\n",
    "\n",
    "def region_query(D, P, eps, verbose = True, snn = False, k = 5):\n",
    "    '''\n",
    "    Find all points in dataset `D` within distance `eps` of point `P`.\n",
    "    \n",
    "    This function calculates the distance between a point P and every other \n",
    "    point in the dataset, and then returns only those points which are within a\n",
    "    threshold distance `eps`.\n",
    "    '''\n",
    "    neighbors = []\n",
    "    \n",
    "    # For each point in the dataset...\n",
    "    for Pn in range(0, len(D)):\n",
    "        if snn == False:\n",
    "            if manhattan_dist(D[P], D[Pn]) < eps:\n",
    "                print(manhattan_dist(D[P], D[Pn]))\n",
    "                neighbors.append(Pn)\n",
    "        else:\n",
    "            # If the distanceis below the threshold, add it to the neighbors list.\n",
    "            if SNN(D, [D[P]], k) < eps:\n",
    "                neighbors.append(Pn)\n",
    "    if verbose:\n",
    "        print(f\"Start point: {D[P]} reachable points: \")\n",
    "        for n in neighbors:\n",
    "            if not n == P:\n",
    "                print(f\"    - {D[n]}\")\n",
    "    print(neighbors)        \n",
    "    return neighbors"
   ]
  },
  {
   "cell_type": "code",
   "execution_count": 18,
   "metadata": {},
   "outputs": [
    {
     "name": "stdout",
     "output_type": "stream",
     "text": [
      "Point [1, 1], Cluster: 1\n",
      "Point [1, 2], Cluster: 1\n",
      "Point [2, 1], Cluster: 1\n",
      "Point [2, 2], Cluster: 1\n",
      "Point [3, 5], Cluster: -1\n",
      "Point [3, 9], Cluster: 2\n",
      "Point [3, 10], Cluster: 2\n",
      "Point [4, 10], Cluster: 2\n",
      "Point [4, 11], Cluster: 2\n",
      "Point [7, 10], Cluster: -1\n",
      "Point [9, 4], Cluster: 3\n",
      "Point [9, 5], Cluster: 3\n",
      "Point [10, 3], Cluster: 3\n",
      "Point [10, 4], Cluster: 3\n",
      "Point [10, 5], Cluster: 3\n",
      "Point [10, 6], Cluster: 3\n",
      "Point [10, 10], Cluster: -1\n",
      "Point [11, 4], Cluster: 3\n",
      "Point [11, 5], Cluster: 3\n",
      "Point [1, 1], Cluster: 1\n",
      "Point [1, 2], Cluster: 1\n",
      "Point [2, 1], Cluster: 1\n",
      "Point [2, 2], Cluster: 1\n",
      "Point [3, 5], Cluster: -1\n",
      "Point [3, 9], Cluster: 2\n",
      "Point [3, 10], Cluster: 2\n",
      "Point [4, 10], Cluster: 2\n",
      "Point [4, 11], Cluster: 2\n",
      "Point [7, 10], Cluster: -1\n",
      "Point [9, 4], Cluster: 3\n",
      "Point [9, 5], Cluster: 3\n",
      "Point [10, 3], Cluster: 3\n",
      "Point [10, 4], Cluster: 3\n",
      "Point [10, 5], Cluster: 3\n",
      "Point [10, 6], Cluster: 3\n",
      "Point [10, 10], Cluster: -1\n",
      "Point [11, 4], Cluster: 3\n",
      "Point [11, 5], Cluster: 3\n"
     ]
    },
    {
     "data": {
      "text/plain": [
       "[1, 1, 1, 1, -1, 2, 2, 2, 2, -1, 3, 3, 3, 3, 3, 3, -1, 3, 3]"
      ]
     },
     "execution_count": 18,
     "metadata": {},
     "output_type": "execute_result"
    }
   ],
   "source": [
    "import numpy\n",
    "points = [\n",
    "    [1, 1],\n",
    "    [1, 2],\n",
    "    [2, 1],\n",
    "    [2, 2],\n",
    "    [3, 5],\n",
    "    [3, 9],\n",
    "    [3, 10],\n",
    "    [4, 10],\n",
    "    [4, 11],\n",
    "    [7, 10],\n",
    "    [9, 4],\n",
    "    [9, 5],\n",
    "    [10, 3],\n",
    "    [10, 4],\n",
    "    [10, 5],\n",
    "    [10, 6],\n",
    "    [10, 10],\n",
    "    [11, 4],\n",
    "    [11, 5]\n",
    "]\n",
    "\n",
    "#dbscan(eps=3, min_samples=2, metric = \"manhattan\").fit(points)\n",
    "dbscan(points, 2, 3, False,False)\n",
    "dbscan(D = points, eps = 2, MinPts=2, verbose= False, snn= False)\n",
    "#df = [x, y]\n",
    "#dbscan(eps=2, MinPts=4, D=df)"
   ]
  },
  {
   "cell_type": "code",
   "execution_count": 31,
   "metadata": {},
   "outputs": [],
   "source": [
    "def manhattan_dist(point_1: list[int | float], point_2: list[int | float]) -> float:\n",
    "    \"\"\" \n",
    "    Returns the manhattan distance between two points\n",
    "    \"\"\"\n",
    "    res = []\n",
    "    for p_1, p_2 in zip(point_1, point_2):\n",
    "        res.append(abs(p_1 - p_2))\n",
    "        \n",
    "    return sum(res)\n",
    "\n",
    "def get_k_smallest_indeces(input_list, k):\n",
    "        return sorted(range(len(input_list)), key=lambda sub: input_list[sub])[:k]\n",
    "\n",
    "\n",
    "def get_knn(query, points, k):\n",
    "    temp_points = points.copy()\n",
    "    temp_points.remove(query)\n",
    "    distances = []\n",
    "    for p in temp_points:\n",
    "        distances.append(manhattan_dist(query, p))\n",
    "    knn = get_k_smallest_indeces(distances, k)\n",
    "    return [temp_points[k] for k in knn]\n",
    "\n",
    "\n",
    "def get_k_dist(o, points, k):\n",
    "    knn = get_knn(o, points, k)\n",
    "    distances = [manhattan_dist(o, p) for p in knn]\n",
    "    return max(distances)\n",
    "\n",
    "\n",
    "def get_reach_dist(p, o, points, k):\n",
    "\n",
    "    return max( [ get_k_dist(o, points, k), manhattan_dist(p, o) ] )\n",
    "\n",
    "\n",
    "def get_lrd(p, points, k):\n",
    "    knn = get_knn(p, points, k)\n",
    "    res = 0\n",
    "    for o in knn:\n",
    "        res +=  get_reach_dist(p, o, points, k) / len(knn)  \n",
    "    return 1 / res\n",
    "\n",
    "def lof(p, points, k):    \n",
    "    knn = get_knn(p, points, k)\n",
    "    res = 0\n",
    "    for o in knn:\n",
    "\n",
    "        lrd_o = get_lrd(o, points, k)\n",
    "        lrd_p = get_lrd(p, points, k)\n",
    "        res += (lrd_o / lrd_p)\n",
    "    return res / len(knn)"
   ]
  },
  {
   "cell_type": "code",
   "execution_count": 32,
   "metadata": {},
   "outputs": [
    {
     "name": "stdout",
     "output_type": "stream",
     "text": [
      "[3, 5]\n",
      "3.333333333333333\n",
      "[7, 10]\n",
      "1.6666666666666665\n",
      "[10, 5]\n",
      "0.8333333333333333\n"
     ]
    }
   ],
   "source": [
    "points = [\n",
    "    [1, 1],\n",
    "    [1, 2],\n",
    "    [2, 1],\n",
    "    [2, 2],\n",
    "    [3, 5],\n",
    "    [3, 9],\n",
    "    [3, 10],\n",
    "    [4, 10],\n",
    "    [4, 11],\n",
    "    [5, 10],\n",
    "    [7, 10],\n",
    "    [9, 4],\n",
    "    [9, 5],\n",
    "    [10, 3],\n",
    "    [10, 4],\n",
    "    [10, 5],\n",
    "    [10, 6],\n",
    "    [10, 9],\n",
    "    [11, 4],\n",
    "    [11, 5]\n",
    "]\n",
    "\n",
    "queries = [[3, 5], [7, 10], [10, 5]]\n",
    "\n",
    "for q in queries:\n",
    "    print(q)\n",
    "    print(lof(q, points, 2))"
   ]
  },
  {
   "cell_type": "code",
   "execution_count": 33,
   "metadata": {},
   "outputs": [
    {
     "name": "stdout",
     "output_type": "stream",
     "text": [
      "1.1142857142857145\n",
      "1.3065656565656565\n",
      "1.0\n"
     ]
    }
   ],
   "source": [
    "for q in queries:\n",
    "    print(lof(q, points, 4))"
   ]
  },
  {
   "cell_type": "code",
   "execution_count": 34,
   "metadata": {},
   "outputs": [
    {
     "name": "stdout",
     "output_type": "stream",
     "text": [
      "1.011909467714211\n",
      "0.9960798610724038\n",
      "1.0039946643933078\n"
     ]
    }
   ],
   "source": [
    "for q in queries:\n",
    "    print(lof(q, points, len(points)))"
   ]
  },
  {
   "cell_type": "markdown",
   "metadata": {},
   "source": [
    "![title](imgs/Screenshot_11.png)  \n",
    "\n",
    "Precision: TP / (TP + FP)  \n",
    "Recall = TP / TP + FN  \n",
    "\n",
    "![title](imgs/Screenshot_12.png)  \n",
    "\n"
   ]
  },
  {
   "cell_type": "markdown",
   "metadata": {},
   "source": [
    "Blue: True Negatives (TN)  \n",
    "Red: False Postives (FP)  \n",
    "Green: True positive (TP)  \n",
    "Orange: False Positives  \n",
    "\n",
    "The diagram above is for k = 2\n"
   ]
  },
  {
   "cell_type": "code",
   "execution_count": 39,
   "metadata": {},
   "outputs": [
    {
     "name": "stdout",
     "output_type": "stream",
     "text": [
      "K = 2\n",
      "S 1\n",
      "precision: 0.5\n",
      "Recall: 0.5\n",
      "\n",
      "S 2\n",
      "precision: 0.5\n",
      "Recall: 0.5\n"
     ]
    }
   ],
   "source": [
    "# K = 2\n",
    "# S 1\n",
    "TP = 1\n",
    "FP = 1\n",
    "\n",
    "TN = 7\n",
    "FN = 1\n",
    "print(\"K = 2\")\n",
    "print(f\"S 1\")\n",
    "print(f\"precision: {TP / (TP + FP)}\")\n",
    "print(f\"Recall: {TP / (TP + FN)}\")\n",
    "\n",
    "print()\n",
    "\n",
    "# S 2\n",
    "TP = 1\n",
    "FP = 1\n",
    "\n",
    "TN = 7\n",
    "FN = 1\n",
    "\n",
    "print(f\"S 2\")\n",
    "print(f\"precision: {TP / (TP + FP)}\")\n",
    "print(f\"Recall: {TP / (TP + FN)}\")"
   ]
  },
  {
   "cell_type": "code",
   "execution_count": null,
   "metadata": {},
   "outputs": [],
   "source": [
    "# K = 1\n",
    "# S 1\n",
    "TP = 1\n",
    "FP = 0\n",
    "\n",
    "TN = 8\n",
    "FN = 1\n",
    "print(\"K = 1\")\n",
    "print(f\"S 1\")\n",
    "print(f\"precision: {TP / (TP + FP)}\")\n",
    "print(f\"Recall: {TP / (TP + FN)}\")\n",
    "\n",
    "print()\n",
    "\n",
    "# S 2\n",
    "TP = 0\n",
    "FP = 1\n",
    "\n",
    "TN = 7\n",
    "FN = 2\n",
    "\n",
    "print(f\"S 1\")\n",
    "print(f\"precision: {TP / (TP + FP)}\")\n",
    "print(f\"Recall: {TP / (TP + FN)}\")"
   ]
  },
  {
   "cell_type": "markdown",
   "metadata": {},
   "source": [
    "![title](imgs/Screenshot_13.png)"
   ]
  },
  {
   "cell_type": "markdown",
   "metadata": {},
   "source": [
    "# Exam"
   ]
  },
  {
   "cell_type": "markdown",
   "metadata": {},
   "source": [
    "![title](imgs/Screenshot_14.png)"
   ]
  },
  {
   "cell_type": "markdown",
   "metadata": {},
   "source": [
    "![title](imgs/Screenshot_15.png)"
   ]
  },
  {
   "cell_type": "markdown",
   "metadata": {},
   "source": [
    "![title](imgs/Screenshot_16.png)"
   ]
  },
  {
   "cell_type": "markdown",
   "metadata": {},
   "source": [
    "![title](imgs/Screenshot_17.png)  \n",
    "\n",
    "False When looking below A (4, 1) only have 1 reachable neighbour\n",
    "\n",
    "![title](imgs/Screenshot_19.png)\n",
    "\n"
   ]
  },
  {
   "cell_type": "markdown",
   "metadata": {},
   "source": [
    "![title](imgs/Screenshot_18.png)  \n",
    "\n",
    "![title](imgs/Screenshot_22.png)  \n",
    "\n",
    "False"
   ]
  },
  {
   "cell_type": "markdown",
   "metadata": {},
   "source": [
    "![title](imgs/Screenshot_23.png)"
   ]
  },
  {
   "cell_type": "markdown",
   "metadata": {},
   "source": [
    "![title](imgs/Screenshot_25.png)  \n",
    "![title](imgs/Screenshot_26.png)  \n",
    "\n",
    "True"
   ]
  },
  {
   "cell_type": "markdown",
   "metadata": {},
   "source": [
    "![title](imgs/Screenshot_27.png)  \n",
    "\n",
    "![title](imgs/Screenshot_28.png)  \n",
    "\n",
    "False, they are density connected but not directly density reachable"
   ]
  },
  {
   "cell_type": "markdown",
   "metadata": {},
   "source": [
    "![title](imgs/Screenshot_29.png)  \n",
    "\n",
    "![title](imgs/Screenshot_31.png)  \n",
    "\n",
    "True\n",
    "\n"
   ]
  },
  {
   "cell_type": "markdown",
   "metadata": {},
   "source": [
    "![title](imgs/Screenshot_32.png)  \n",
    "\n",
    "![title](imgs/Screenshot_33.png)  \n",
    "\n",
    "True"
   ]
  },
  {
   "cell_type": "markdown",
   "metadata": {},
   "source": [
    "![title](imgs/Screenshot_34.png)  \n"
   ]
  },
  {
   "cell_type": "code",
   "execution_count": 53,
   "metadata": {},
   "outputs": [
    {
     "name": "stdout",
     "output_type": "stream",
     "text": [
      "[1, 7]\n",
      "1.5\n",
      "[2, 3]\n",
      "2.0\n",
      "[3, 6]\n",
      "1.0\n",
      "[4, 5]\n",
      "0.9\n",
      "[4, 7]\n",
      "1.0\n",
      "[5, 5]\n",
      "1.125\n",
      "[6, 6]\n",
      "1.125\n",
      "[7, 2]\n",
      "2.0\n"
     ]
    }
   ],
   "source": [
    "points = [\n",
    "    [1, 7], # B\n",
    "    [2, 3], # C\n",
    "    [3, 6], # H\n",
    "    [4, 5], # G\n",
    "    [4, 7], # E\n",
    "    [5, 5], # F\n",
    "    [6, 6], # D\n",
    "    [7, 2], # A\n",
    "]\n",
    "\n",
    "for p in points:\n",
    "    print(p)\n",
    "    print(lof(p, points, 2))"
   ]
  },
  {
   "cell_type": "markdown",
   "metadata": {},
   "source": [
    "![title](imgs/Screenshot_35.png)"
   ]
  },
  {
   "cell_type": "markdown",
   "metadata": {},
   "source": [
    "![title](imgs/Screenshot_38.png)  \n",
    "\n",
    "![title](imgs/Screenshot_37.png)"
   ]
  },
  {
   "cell_type": "code",
   "execution_count": null,
   "metadata": {},
   "outputs": [],
   "source": []
  }
 ],
 "metadata": {
  "kernelspec": {
   "display_name": "Python 3.10.11 64-bit (microsoft store)",
   "language": "python",
   "name": "python3"
  },
  "language_info": {
   "codemirror_mode": {
    "name": "ipython",
    "version": 3
   },
   "file_extension": ".py",
   "mimetype": "text/x-python",
   "name": "python",
   "nbconvert_exporter": "python",
   "pygments_lexer": "ipython3",
   "version": "3.10.11"
  },
  "orig_nbformat": 4,
  "vscode": {
   "interpreter": {
    "hash": "aa82987a71ca0339a52998cd22613b0c002bda8349fa32a0cb67ceec3936a2bf"
   }
  }
 },
 "nbformat": 4,
 "nbformat_minor": 2
}
