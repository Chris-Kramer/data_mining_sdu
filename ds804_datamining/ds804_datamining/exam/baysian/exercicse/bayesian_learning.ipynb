{
 "cells": [
  {
   "cell_type": "markdown",
   "metadata": {},
   "source": [
    "# Exercise 7"
   ]
  },
  {
   "cell_type": "markdown",
   "metadata": {},
   "source": [
    "![title](imgs/Screenshot_1.png)"
   ]
  },
  {
   "cell_type": "markdown",
   "metadata": {},
   "source": [
    "{ {N, N N}, {N, N, D}, {N, D, D}, {D, D, D}, {D, D, N}, {D, N, N} }"
   ]
  },
  {
   "cell_type": "markdown",
   "metadata": {},
   "source": [
    "![title](imgs/Screenshot_2.png)"
   ]
  },
  {
   "cell_type": "markdown",
   "metadata": {},
   "source": [
    "![t](imgs/Screenshot_3.png)  \n",
    "\n",
    "{0, 1, 2, 3, 4, 5, 6 }"
   ]
  },
  {
   "cell_type": "markdown",
   "metadata": {},
   "source": [
    "![t](imgs/Screenshot_4.png)  \n",
    "\n",
    "{0, 1, 2, 3, 4, 5}"
   ]
  },
  {
   "cell_type": "markdown",
   "metadata": {},
   "source": [
    "![t](imgs/Screenshot_5.png)  \n",
    "\n",
    "{3, 4}"
   ]
  },
  {
   "cell_type": "markdown",
   "metadata": {},
   "source": [
    "![t](imgs/Screenshot_6.png)  \n",
    "\n",
    "{1, 3}"
   ]
  },
  {
   "cell_type": "markdown",
   "metadata": {},
   "source": [
    "![t](imgs/Screenshot_7.png)  \n",
    "\n",
    "{5, 6}"
   ]
  },
  {
   "cell_type": "markdown",
   "metadata": {},
   "source": [
    "![t](imgs/Screenshot_8.png)\n",
    "\n",
    "{6}"
   ]
  },
  {
   "cell_type": "markdown",
   "metadata": {},
   "source": [
    "![title](imgs/Screenshot_9.png)"
   ]
  },
  {
   "cell_type": "markdown",
   "metadata": {},
   "source": [
    "![title](imgs/Screenshot_10.png)  \n",
    "\n",
    "For each individual component  \n",
    "D = {(S, S, F), (S, F, S), (F, S, S)}\n",
    "\n",
    "For the whole system  \n",
    "{S, S, F}"
   ]
  },
  {
   "cell_type": "markdown",
   "metadata": {},
   "source": [
    "![title](imgs/Screenshot_11.png)  \n",
    "\n",
    "For the individual components  \n",
    "E = {(S, S, F), (S, F, S), (F, S, S), (S, S, S)}  \n",
    "\n",
    "For the whole system\n",
    "{S, S, F, S}"
   ]
  },
  {
   "cell_type": "markdown",
   "metadata": {},
   "source": [
    "![title](imgs/Screenshot_12.png)  \n",
    "\n",
    "For the individual components  \n",
    "\n",
    "G = {(S, S, F), (S, F, S), (S, S, S)}  \n",
    "\n",
    "For the whole system:  \n",
    "{S, S, S}"
   ]
  },
  {
   "cell_type": "markdown",
   "metadata": {},
   "source": [
    "![title](imgs/Screenshot_13.png)  \n",
    "\n",
    "To Get the complementary of G, we must list all possible outcomes and remove those that are part of G  \n",
    "\n",
    "Sample space = {(S, S, S), (S, S, F), (S, F, S), (S, F, F)\n",
    "                (F, F, F), (F, F, S), (F, S, F), (F, S, S)}  \n",
    "\n",
    "\n",
    "We then remove G which gives  \n",
    "{(S, F, F) (F, F, F), (F, F, S), (F, S, F), (F, S, S)}  \n",
    "\n",
    "With the intersection of D an G we get:  \n",
    "{(S, S, F), (S, F, S)}  \n",
    "\n",
    "The union of D and G gives:  \n",
    "{(S, S, F), (S, F, S), (S, S, S)}  \n",
    "\n",
    "The union of E and G gives:  \n",
    "{(S, S, F), (S, F, S), (F, S, S), (S, S, S)}  \n",
    "\n",
    "The intersection og E and G gives  \n",
    "{(S, S, F), (S, F, S), (S, S, S)} "
   ]
  },
  {
   "cell_type": "markdown",
   "metadata": {},
   "source": [
    "![title](imgs/Screenshot_14.png)  "
   ]
  },
  {
   "cell_type": "markdown",
   "metadata": {},
   "source": [
    "![title](imgs/Screenshot_15.png)"
   ]
  },
  {
   "cell_type": "markdown",
   "metadata": {},
   "source": [
    "To solve this we use the conditional probability formula:  \n",
    "\n",
    "![title](imgs/Screenshot_16.png)  \n",
    "\n",
    "which converted to our case is  \n",
    "\n",
    "Pr(B | A) = Pr(A and B) / Pr(A)  \n",
    "\n",
    "which gives  \n",
    "\n",
    "Pr(B | A) = 0.3 / 0.6  \n",
    "\n",
    "so 50%"
   ]
  },
  {
   "cell_type": "code",
   "execution_count": 1,
   "metadata": {},
   "outputs": [
    {
     "data": {
      "text/plain": [
       "0.5"
      ]
     },
     "execution_count": 1,
     "metadata": {},
     "output_type": "execute_result"
    }
   ],
   "source": [
    "pr_A = 6/10\n",
    "pr_B = 4/10\n",
    "pr_A_and_B = 3/10\n",
    "pr_A_and_B / pr_A"
   ]
  },
  {
   "cell_type": "markdown",
   "metadata": {},
   "source": [
    "![title](imgs/Screenshot_17.png)"
   ]
  },
  {
   "cell_type": "markdown",
   "metadata": {},
   "source": [
    "So procedure but we have to change the prior  \n",
    "\n",
    "![title](imgs/Screenshot_16.png)  \n",
    "\n",
    "which converted to our case is  \n",
    "\n",
    "Pr(A | B) = Pr(A and B) / Pr(B)  \n",
    "\n",
    "which gives  \n",
    "\n",
    "Pr(A | B) = 0.3 / 0.4  \n",
    "\n",
    "so 75%\n"
   ]
  },
  {
   "cell_type": "code",
   "execution_count": 3,
   "metadata": {},
   "outputs": [
    {
     "data": {
      "text/plain": [
       "0.7499999999999999"
      ]
     },
     "execution_count": 3,
     "metadata": {},
     "output_type": "execute_result"
    }
   ],
   "source": [
    "pr_A = 6/10\n",
    "pr_B = 4/10\n",
    "pr_A_and_B = 3/10\n",
    "pr_A_and_B / pr_B"
   ]
  },
  {
   "cell_type": "markdown",
   "metadata": {},
   "source": [
    "![title](imgs/Screenshot_18.png)"
   ]
  },
  {
   "cell_type": "markdown",
   "metadata": {},
   "source": [
    "We need to use bayes theorem:  \n",
    "![title](imgs/Screenshot_19.png)   \n",
    "\n",
    "\n",
    "So we have the following:  \n",
    "\n",
    "Pr( sick ) = 1/1000  \n",
    "Pr( Positve | sick ) = 99/100  \n",
    "Pr( Positve | healthy) = 2/100   \n",
    "Pr( healthy ) = 999 / 1000 (This is the same as 1 - Pr( sick ))\n",
    "\n",
    "Which gives the following formula:  \n",
    "\n",
    "Pr( Sick | Positve) = ( Pr( Positive | Sick ) * Pr( sick ) ) / (Pr( Positive ) )   \n",
    "\n",
    "To get the probability of B or Pr( Postive ) we need to do the following:  \n",
    "![title](imgs/Screenshot_20.png)  \n",
    "\n",
    "Pr( Positve ) = ( ( Pr( Positive | sick ) * Pr (sick) )+ Pr(sick | healthy) * Pr( Healthy ) )\n",
    "\n",
    "So the full formula is:  \n",
    "\n",
    "![title](imgs/Screenshot_21.png)  \n",
    "\n",
    "Pr( Sick | Positve) = ( Pr( Positive | Sick ) * Pr( sick ) ) / Pr( Postive ))  \n",
    "\n"
   ]
  },
  {
   "cell_type": "code",
   "execution_count": 10,
   "metadata": {},
   "outputs": [
    {
     "data": {
      "text/plain": [
       "0.047210300429184546"
      ]
     },
     "execution_count": 10,
     "metadata": {},
     "output_type": "execute_result"
    }
   ],
   "source": [
    "\n",
    "# P(B) = P(B|A) * P(A) + P(B|not A) * P(not A)\n",
    "\n",
    "prob_sick = 1/1000 # P(A)\n",
    "prob_healthy = 999/1000 #P(not A)\n",
    "prob_positive_sick = 99/100 # P(B | A)\n",
    "prob_positive_healthy = 2/100 # P(B | not A)\n",
    "\n",
    "prob_positve = prob_positive_sick * prob_sick + prob_positive_healthy * prob_healthy # P( B )\n",
    "prob_positive_sick * prob_sick / prob_positve #P(A | B)"
   ]
  },
  {
   "cell_type": "markdown",
   "metadata": {},
   "source": [
    "# Exam"
   ]
  },
  {
   "cell_type": "markdown",
   "metadata": {},
   "source": [
    "![title](imgs/Screenshot_22.png)"
   ]
  },
  {
   "cell_type": "markdown",
   "metadata": {},
   "source": [
    "For at løse denne skal vi tage sandsynlighederne fra hver classifer og gange dem med sandsynligheden af hypotesen som classifieren angiver.\n",
    "\n",
    "Pr(h1 | D) = 0.2\n",
    "Pr(h2 | D) = 0.1\n",
    "Pr(h3 | D) = 0.7\n",
    "\n",
    "Så med **o1** skal vi gøre følgende:\n",
    "\n",
    "Pr(+ | h1 ) = 0.4\n",
    "Pr(+ | h2 ) = 0.4\n",
    "Pr(+ | h3) = 0.6\n",
    "\n",
    "Vi siger Pr(+ | h1) * Pr(h1 | D) + Pr(+ | h2 ) * Pr(h2 | D) + Pr(+ | h3) * Pr(h3 | D)  \n",
    "\n",
    "Hvilket er (0.4 * 0.2) + (0.4 * 0.1) + (0.6 * 0.7) = **0.54**"
   ]
  },
  {
   "cell_type": "code",
   "execution_count": 14,
   "metadata": {},
   "outputs": [
    {
     "name": "stdout",
     "output_type": "stream",
     "text": [
      "O1 Pr( + | Bayes Optimal): 0.54\n",
      "O1 Pr( - | Bayes Optimal): 0.46\n",
      "O2 Pr( + | Bayes Optimal): 0.55\n",
      "O2 Pr( - | Bayes Optimal): 0.45\n",
      "O3 Pr( + | Bayes Optimal): 0.55\n",
      "O3 Pr( + | Bayes Optimal): 0.45\n"
     ]
    }
   ],
   "source": [
    "#O1\n",
    "print(f\"O1 Pr( + | Bayes Optimal): {round((0.4 * 0.2) + (0.4 * 0.1) + (0.6 * 0.7), 2)}\")\n",
    "print(f\"O1 Pr( - | Bayes Optimal): {round((0.6 * 0.2) + (0.6 * 0.1) + (0.4 * 0.7), 2)}\")\n",
    "print(f\"O2 Pr( + | Bayes Optimal): {round((0.8 * 0.2) + (0.4 * 0.1) + (0.5 * 0.7), 2)}\")\n",
    "print(f\"O2 Pr( - | Bayes Optimal): {round((0.2 * 0.2) + (0.6 * 0.1) + (0.5 * 0.7), 2)}\")\n",
    "print(f\"O3 Pr( + | Bayes Optimal): {round((0.6 * 0.2) + (0.8 * 0.1) + (0.5 * 0.7), 2)}\")\n",
    "print(f\"O3 Pr( + | Bayes Optimal): {round((0.4 * 0.2) + (0.2 * 0.1) + (0.5 * 0.7), 2)}\")"
   ]
  },
  {
   "cell_type": "markdown",
   "metadata": {},
   "source": [
    "![title](imgs/Screenshot_23.png)"
   ]
  },
  {
   "cell_type": "code",
   "execution_count": 82,
   "metadata": {},
   "outputs": [],
   "source": [
    "import pandas as pd\n",
    "\n",
    "def pre_processing(df):\n",
    "\n",
    "\t\"\"\" partioning data into features and target \"\"\"\n",
    "\n",
    "\tX = df.drop([df.columns[-1]], axis = 1)\n",
    "\ty = df[df.columns[-1]]\n",
    "\n",
    "\treturn X, y\n",
    "\n",
    "def get_unique_values(my_list):    \n",
    "    unique_list = []\n",
    "    for element in my_list:\n",
    "        if element not in unique_list:\n",
    "            unique_list.append(element)\n",
    "    return unique_list\n",
    "\n",
    "def flatten(my_list):\n",
    "    flat_list = []\n",
    "    for sub_list in my_list:\n",
    "        for element in sub_list:\n",
    "            flat_list.append(element)\n",
    "    return flat_list\n",
    "\n",
    "\n",
    "def naive_bayes(df: pd.DataFrame, query: dict):\n",
    "\n",
    "    X, y = pre_processing(df)\n",
    "    y_names = get_unique_values(list(y))\n",
    "    x_names = get_unique_values(list(X.iloc[0]))\n",
    "    \n",
    "    x_names = []\n",
    "    for col in X:\n",
    "        x_names.append(list(get_unique_values(X[col])))\n",
    "    \n",
    "    x_names = flatten(x_names)\n",
    "    x_names = get_unique_values(x_names)\n",
    "        \n",
    "    prob_dict = {\n",
    "        \n",
    "    }\n",
    "\n",
    "    for col in X:\n",
    "        prob_dict[col] = { }\n",
    "        for y_name in y_names:\n",
    "            \n",
    "            prob_dict[col][y_name] = {\n",
    "                \n",
    "            }\n",
    "            y_name_count = list(df[df.columns[-1]])\n",
    "            y_name_count = y_name_count.count(y_name)\n",
    "            for x_name in x_names:\n",
    "                temp_df = df[df[df.columns[-1]] == y_name]\n",
    "                temp_df = temp_df[temp_df[col] == x_name]\n",
    "                temp_df = list(temp_df[col])\n",
    "                x_name_count = temp_df.count(x_name)          \n",
    "                prob_dict[col][y_name][x_name] = x_name_count / y_name_count\n",
    "                prob_dict[col][y_name][\"total\"] = y_name_count / len(list(df[df.columns[-1]]))\n",
    "\n",
    "    probs = {}\n",
    "    for y_name in y_names:\n",
    "        probs[y_name] = 1\n",
    "\n",
    "    i = 1\n",
    "    for key, val in query.items():\n",
    "        for y_name in y_names:\n",
    "            combined_prob = 0\n",
    "            probs[y_name] *= prob_dict[key][y_name][val]\n",
    "            \n",
    "            if i == len(query):\n",
    "                probs[y_name] *= prob_dict[key][y_name][\"total\"]\n",
    "        i += 1\n",
    "    \n",
    "    highest_value = 0\n",
    "    sum_prob = 0\n",
    "    for key, val in probs.items():\n",
    "        sum_prob += probs[key]\n",
    "        \n",
    "        if val > highest_value:\n",
    "            highest_value = val\n",
    "    \n",
    "    for key, val in probs.items():\n",
    "        print(f\"{key}: {val}, conditional prob: {val / sum_prob}\")\n",
    "        \n",
    "    # Final prediction\n",
    "    for key, val in probs.items():\n",
    "        if val == highest_value:\n",
    "            print()\n",
    "            print()\n",
    "            print(f\"-------  Prediction -------\")\n",
    "            print(f\"- Query {[val for val in query.values()]}\")\n",
    "            print(f\"    - Label: {key}\")\n",
    "            print(f\"    - Probability: {val}\")\n",
    "            print(f\"    - Conditional probability: {val / sum_prob}\")\n",
    "\n",
    "    "
   ]
  },
  {
   "cell_type": "code",
   "execution_count": 76,
   "metadata": {},
   "outputs": [],
   "source": [
    "#note allow = a, forbid = f, yes = y, no = n\n",
    "df = pd.DataFrame({\n",
    "    \"Olsen\": [\"f\", \"f\", \"f\", \"a\", \"a\", \"a\", \"a\", \"f\", \"f\", \"a\"],\n",
    "    \"Frandsen\":[\"f\", \"f\", \"f\", \"f\", \"f\", \"a\", \"a\", \"a\", \"a\", \"f\"],\n",
    "    \"Jensen\": [\"a\", \"f\", \"a\", \"f\", \"a\", \"f\", \"a\", \"f\", \"a\", \"f\"],\n",
    "    \"allow_?\": [\"y\", \"y\", \"y\", \"y\", \"y\", \"y\", \"n\", \"n\", \"n\", \"n\"],\n",
    "})\n"
   ]
  },
  {
   "cell_type": "code",
   "execution_count": 83,
   "metadata": {},
   "outputs": [
    {
     "name": "stdout",
     "output_type": "stream",
     "text": [
      "y: 0.024999999999999998, conditional prob: 0.24999999999999997\n",
      "n: 0.07500000000000001, conditional prob: 0.7500000000000001\n",
      "\n",
      "\n",
      "-------  Prediction -------\n",
      "- Query ['a', 'a', 'f']\n",
      "    - Label: n\n",
      "    - Probability: 0.07500000000000001\n",
      "    - Conditional probability: 0.7500000000000001\n"
     ]
    }
   ],
   "source": [
    "query = {\n",
    "    \"Olsen\": \"a\",\n",
    "    \"Frandsen\": \"a\",\n",
    "    \"Jensen\": \"f\"\n",
    "    }\n",
    "\n",
    "naive_bayes(df, query)"
   ]
  },
  {
   "cell_type": "code",
   "execution_count": 84,
   "metadata": {},
   "outputs": [
    {
     "name": "stdout",
     "output_type": "stream",
     "text": [
      "y: 0.125, conditional prob: 0.8333333333333334\n",
      "n: 0.025, conditional prob: 0.16666666666666669\n",
      "\n",
      "\n",
      "-------  Prediction -------\n",
      "- Query ['a', 'f', 'f']\n",
      "    - Label: y\n",
      "    - Probability: 0.125\n",
      "    - Conditional probability: 0.8333333333333334\n"
     ]
    }
   ],
   "source": [
    "query = {\n",
    "    \"Olsen\": \"a\",\n",
    "    \"Frandsen\": \"f\",\n",
    "    \"Jensen\": \"f\"\n",
    "    }\n",
    "\n",
    "naive_bayes(df, query)"
   ]
  },
  {
   "cell_type": "code",
   "execution_count": 85,
   "metadata": {},
   "outputs": [
    {
     "name": "stdout",
     "output_type": "stream",
     "text": [
      "y: 0.125, conditional prob: 0.8333333333333334\n",
      "n: 0.025, conditional prob: 0.16666666666666669\n",
      "\n",
      "\n",
      "-------  Prediction -------\n",
      "- Query ['f', 'f', 'a']\n",
      "    - Label: y\n",
      "    - Probability: 0.125\n",
      "    - Conditional probability: 0.8333333333333334\n"
     ]
    }
   ],
   "source": [
    "query = {\n",
    "    \"Olsen\": \"f\",\n",
    "    \"Frandsen\": \"f\",\n",
    "    \"Jensen\": \"a\"\n",
    "    }\n",
    "\n",
    "naive_bayes(df, query)"
   ]
  },
  {
   "cell_type": "code",
   "execution_count": 86,
   "metadata": {},
   "outputs": [
    {
     "name": "stdout",
     "output_type": "stream",
     "text": [
      "y: 0.024999999999999998, conditional prob: 0.24999999999999997\n",
      "n: 0.07500000000000001, conditional prob: 0.7500000000000001\n",
      "\n",
      "\n",
      "-------  Prediction -------\n",
      "- Query ['f', 'a', 'a']\n",
      "    - Label: n\n",
      "    - Probability: 0.07500000000000001\n",
      "    - Conditional probability: 0.7500000000000001\n"
     ]
    }
   ],
   "source": [
    "query = {\n",
    "    \"Olsen\": \"f\",\n",
    "    \"Frandsen\": \"a\",\n",
    "    \"Jensen\": \"a\"\n",
    "    }\n",
    "\n",
    "naive_bayes(df, query)"
   ]
  }
 ],
 "metadata": {
  "kernelspec": {
   "display_name": "Python 3.10.11 64-bit (microsoft store)",
   "language": "python",
   "name": "python3"
  },
  "language_info": {
   "codemirror_mode": {
    "name": "ipython",
    "version": 3
   },
   "file_extension": ".py",
   "mimetype": "text/x-python",
   "name": "python",
   "nbconvert_exporter": "python",
   "pygments_lexer": "ipython3",
   "version": "3.10.11"
  },
  "orig_nbformat": 4,
  "vscode": {
   "interpreter": {
    "hash": "aa82987a71ca0339a52998cd22613b0c002bda8349fa32a0cb67ceec3936a2bf"
   }
  }
 },
 "nbformat": 4,
 "nbformat_minor": 2
}
