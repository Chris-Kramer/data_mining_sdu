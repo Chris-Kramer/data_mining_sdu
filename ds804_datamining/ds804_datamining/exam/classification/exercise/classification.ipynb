{
 "cells": [
  {
   "cell_type": "markdown",
   "metadata": {},
   "source": [
    "# Classification"
   ]
  },
  {
   "cell_type": "code",
   "execution_count": 26,
   "metadata": {},
   "outputs": [],
   "source": [
    "import numpy as np\n",
    "\n",
    "\n",
    "def euclidian_dist(point_1: list[int | float], point_2: list[int | float]) -> float:\n",
    "    \"\"\" \n",
    "    Returns the euclidian distance between two points\n",
    "    \"\"\"\n",
    "    res = []\n",
    "    for p_1, p_2 in zip(point_1, point_2):\n",
    "        res.append(abs(p_1 - p_2)**2)\n",
    "        \n",
    "    return sum(res)**(1/2)\n",
    "    \n",
    "\n",
    "def manhattan_dist(point_1: list[int | float], point_2: list[int | float]) -> float:\n",
    "    \"\"\" \n",
    "    Returns the manhattan distance between two points\n",
    "    \"\"\"\n",
    "    res = []\n",
    "    for p_1, p_2 in zip(point_1, point_2):\n",
    "        res.append(abs(p_1 - p_2))\n",
    "        \n",
    "    return sum(res)\n",
    "\n",
    "\n",
    "def max_norm_dist(point_1: list[int | float], point_2: list[int | float]) -> float:\n",
    "    \"\"\"\n",
    "    Returns the max norm distance between two points\n",
    "    \"\"\"\n",
    "    res = []\n",
    "    for p_1, p_2 in zip(point_1, point_2):\n",
    "        res.append(abs(p_1 - p_2))\n",
    "        \n",
    "    return max(res)\n",
    "\n",
    "\n",
    "def weigthed_euclidian_dist(point_1: list[int | float],\n",
    "                            point_2: list[int | float],\n",
    "                            weights: list[int | float]) -> float:\n",
    "    \"\"\"\n",
    "    Returns the weighted euclidian distance between two points and a list of weights\n",
    "    The length of the array must be the same as the length of the points\n",
    "    \"\"\"\n",
    "    res = []\n",
    "    for p_1, p_2, w in zip(point_1, point_2, weights):\n",
    "        res.append(w * (abs(p_1 - p_2)))\n",
    "        \n",
    "    return sum(res)**(1/2)\n",
    "\n",
    "\n",
    "def quadratic_dist(point_1: list[int | float],\n",
    "                   point_2: list[int | float],\n",
    "                   w_matrix: list[list[int | float]]) -> float:\n",
    "    \"\"\" \n",
    "    Returns the quadratic distance\n",
    "    \"\"\"\n",
    "    point_1 = np.array(point_1)\n",
    "    point_2 = np.array(point_2)\n",
    "    w_matrix = np.array(w_matrix)\n",
    "    return ((point_1 - point_2) @ w_matrix @ (np.transpose(point_1) - np.transpose(point_2)))**(1/2)\n",
    "\n",
    "\n",
    "def custom_dist(point_1: list[int | float],\n",
    "                point_2: list[int | float],\n",
    "                p: int | float) -> float:\n",
    "    \"\"\" \n",
    "    \"\"\"\n",
    "    \n",
    "    res = []\n",
    "    for p_1, p_2 in zip(point_1, point_2):\n",
    "        res.append((abs(p_1 - p_2))**p)\n",
    "        \n",
    "    return sum(res)**(1/p) "
   ]
  },
  {
   "cell_type": "code",
   "execution_count": 4,
   "metadata": {},
   "outputs": [
    {
     "data": {
      "text/plain": [
       "['sunny', 'warm', '?', 'strong', '?', '?', 'yes']"
      ]
     },
     "execution_count": 4,
     "metadata": {},
     "output_type": "execute_result"
    }
   ],
   "source": [
    "# Basic hypothesis algorithm\n",
    "\n",
    "\n",
    "training = [[\"sunny\", \"warm\", \"normal\", \"strong\", \"warm\", \"same\", \"yes\"],\n",
    "            [\"sunny\", \"warm\", \"high\", \"strong\", \"warm\", \"same\", \"yes\"],\n",
    "            [\"rainy\", \"cold\", \"high\", \"strong\", \"warm\", \"change\", \"no\"],\n",
    "            [\"sunny\", \"warm\", \"high\", \"strong\", \"cool\", \"change\", \"yes\"]\n",
    "            ]\n",
    "\n",
    "\n",
    "def create_hypothesis(training_data, negtaive_label):\n",
    "    i = 0\n",
    "    hypthesis = []\n",
    "    for train in training_data:\n",
    "        \n",
    "        if train[-1] == negtaive_label:\n",
    "            continue\n",
    "        \n",
    "        if i == 0:\n",
    "            hypthesis = train\n",
    "            i += 1\n",
    "            continue\n",
    "        for j, a in enumerate(train):\n",
    "            if a == hypthesis[j]:\n",
    "                continue\n",
    "            else:\n",
    "                hypthesis[j] = \"?\"\n",
    "        i += 1\n",
    "    return hypthesis\n",
    "\n",
    "create_hypothesis(training, \"no\")\n",
    "        "
   ]
  },
  {
   "cell_type": "markdown",
   "metadata": {},
   "source": [
    "# Exercise 6  \n",
    "\n",
    "![title](imgs/Screenshot_6.png)"
   ]
  },
  {
   "cell_type": "markdown",
   "metadata": {},
   "source": [
    "![title](imgs/Screenshot_1.png)  \n",
    "\n",
    "Let us get the definitions completely right:  \n",
    "    - TP: True positives  \n",
    "    - TN: True negatives\n",
    "    - FP: False positives\n",
    "    - FN: False negativs  \n",
    "\n",
    "which is equvilant to this:  \n",
    "![title](imgs/Billede1.png)  \n",
    "\n",
    "\n",
    "Remember:  \n",
    "\n",
    "![title](imgs/Screenshot_3.png)"
   ]
  },
  {
   "cell_type": "markdown",
   "metadata": {},
   "source": [
    "Therefore:  \n",
    "\n",
    "Precision = TP / TP + FP  \n",
    "\n",
    "Recall = TP / TP + FN"
   ]
  },
  {
   "cell_type": "markdown",
   "metadata": {},
   "source": [
    "![title](imgs/Screenshot_5.png)  \n",
    "\n",
    "Note that the weigted average is the same as the micro average"
   ]
  },
  {
   "cell_type": "code",
   "execution_count": 24,
   "metadata": {},
   "outputs": [
    {
     "data": {
      "image/png": "[encoded data removed]",
      "text/plain": [
       "<Figure size 640x480 with 2 Axes>"
      ]
     },
     "metadata": {},
     "output_type": "display_data"
    },
    {
     "name": "stdout",
     "output_type": "stream",
     "text": [
      "              precision    recall  f1-score   support\n",
      "\n",
      "           A       0.57      0.80      0.67         5\n",
      "           B       0.67      0.40      0.50         5\n",
      "           C       0.60      0.60      0.60         5\n",
      "\n",
      "    accuracy                           0.60        15\n",
      "   macro avg       0.61      0.60      0.59        15\n",
      "weighted avg       0.61      0.60      0.59        15\n",
      "\n"
     ]
    }
   ],
   "source": [
    "from sklearn import metrics\n",
    "from sklearn.metrics import classification_report\n",
    "import matplotlib.pyplot as plt\n",
    "\n",
    "\n",
    "def confusion_matrix(actual, predicted):\n",
    "    confusion_matrix = metrics.confusion_matrix(actual, predicted)\n",
    "    cm_display = metrics.ConfusionMatrixDisplay(confusion_matrix = confusion_matrix)\n",
    "    cm_display.from_predictions(actual, predicted)\n",
    "    #cm_display.plot()\n",
    "    plt.show()\n",
    "    print(classification_report(actual, predicted))    \n",
    "    \n",
    "\n",
    "actual = [\"A\", \"B\", \"A\", \"C\", \"C\", \"B\", \"A\", \"A\", \"A\", \"B\", \"B\", \"C\", \"C\", \"C\", \"B\"]\n",
    "predicted = [\"A\", \"A\", \"C\", \"C\", \"B\", \"B\", \"A\", \"A\", \"A\", \"C\", \"A\", \"A\", \"C\", \"C\", \"B\"]\n",
    "confusion_matrix(actual, predicted)"
   ]
  },
  {
   "cell_type": "markdown",
   "metadata": {},
   "source": [
    "![title](imgs/Screenshot_7.png)"
   ]
  },
  {
   "cell_type": "markdown",
   "metadata": {},
   "source": [
    "![title](imgs/Screenshot_8.png)  \n",
    "\n",
    "The best that a classifier can do is 50%, so the true error rate will be 0,5"
   ]
  },
  {
   "cell_type": "markdown",
   "metadata": {},
   "source": [
    "![title](imgs/Screenshot_9.png)  \n",
    "\n",
    "At each step the true error rate will be |number of misclassifications - 1| / |number of predictions - 1| but the final result will converge on 0,5"
   ]
  },
  {
   "cell_type": "markdown",
   "metadata": {},
   "source": [
    "![title](imgs/Screenshot_10.png)"
   ]
  },
  {
   "cell_type": "code",
   "execution_count": 25,
   "metadata": {},
   "outputs": [
    {
     "data": {
      "text/plain": [
       "0.5"
      ]
     },
     "execution_count": 25,
     "metadata": {},
     "output_type": "execute_result"
    }
   ],
   "source": [
    "# We know that the error rate will 0,5 therefore\n",
    "\n",
    "(0.632 * 0.5) + (0.368 * 0.5) "
   ]
  },
  {
   "cell_type": "markdown",
   "metadata": {},
   "source": [
    "![title](imgs/Screenshot_11.png)"
   ]
  },
  {
   "cell_type": "code",
   "execution_count": 53,
   "metadata": {},
   "outputs": [],
   "source": [
    "#points = [[1, 3], [1, 8], [1, 9], [4, 6], [5, 4], [5, 7], [6, 1], [6, 3], [6, 8], [7, 2], [7, 4], [7, 6], [8, 2], [8, 3]]\n",
    "# Note that c = circles and s = squares\n",
    "#classes = [\"c\", \"c\", \"c\", \"c\", \"s\", \"c\", \"s\", \"s\", \"c\", \"s\", \"s\", \"c\", \"s\", \"s\"]\n",
    "\n",
    "#queries = [[6, 6]]\n",
    "\n",
    "\n",
    "def get_k_smallest_indeces(input_list, k):\n",
    "    return sorted(range(len(input_list)), key=lambda sub: input_list[sub])[:k]\n",
    "\n",
    "def get_most_frequent_value(input_list):\n",
    "    return max(input_list, key = input_list.count)\n",
    "\n",
    "def knn_manhattan(queries: list[ int | float],\n",
    "                  points: list[int | float],\n",
    "                  classes: list[int | float | str],\n",
    "                  k: int):\n",
    "    \"\"\"\n",
    "    Knn, takes a list of query points, a list of points and a list of its known classes along with k\n",
    "    \"\"\"\n",
    "    for q in queries:\n",
    "        distances = []\n",
    "        for p in points:\n",
    "            distances.append(manhattan_dist(q, p))\n",
    "        \n",
    "        nearest_neighbours = get_k_smallest_indeces(distances, k)\n",
    "        neighbour_classes = [classes[neighbour] for neighbour in nearest_neighbours]\n",
    "        q_class = get_most_frequent_value(neighbour_classes)\n",
    "        print(f\"{k}-nearest neighbours\")\n",
    "        print(f\"Point: {q}\") \n",
    "        print(f\"prediced class: {q_class}\")\n",
    "        print(f\"k nearest neighbours\")\n",
    "        for i in nearest_neighbours:\n",
    "            print(f\"    - neighbour: {points[i]}\")\n",
    "            print(f\"    - distance: {distances[i]}\")\n",
    "\n",
    "def knn_euclidian(queries: list[ int | float],\n",
    "                  points: list[int | float],\n",
    "                  classes: list[int | float | str],\n",
    "                  k: int):\n",
    "    \"\"\"\n",
    "    Knn, takes a list of query points, a list of points and a list of its known classes along with k\n",
    "    \"\"\"\n",
    "    for q in queries:\n",
    "        distances = []\n",
    "        for p in points:\n",
    "            distances.append(euclidian_dist(q, p))\n",
    "        \n",
    "        nearest_neighbours = get_k_smallest_indeces(distances, k)\n",
    "        neighbour_classes = [classes[neighbour] for neighbour in nearest_neighbours]\n",
    "        q_class = get_most_frequent_value(neighbour_classes)\n",
    "        print(f\"{k}-nearest neighbours\")\n",
    "        print(f\"Point: {q}\") \n",
    "        print(f\"prediced class: {q_class}\")\n",
    "        print(f\"k nearest neighbours\")\n",
    "        for i in nearest_neighbours:\n",
    "            print(f\"    - neighbour: {points[i]}\")\n",
    "            print(f\"    - distance: {distances[i]}\")"
   ]
  },
  {
   "cell_type": "code",
   "execution_count": 54,
   "metadata": {},
   "outputs": [],
   "source": [
    "points = [[1, 3], [1, 8], [1, 9], [4, 6], [5, 4], [5, 7], [6, 1], [6, 3], [6, 8], [7, 2], [7, 4], [7, 6], [8, 2], [8, 3]]\n",
    "# Note that c = circles and s = squares\n",
    "classes = [\"c\", \"c\", \"c\", \"c\", \"s\", \"c\", \"s\", \"s\", \"c\", \"s\", \"s\", \"c\", \"s\", \"s\"]\n",
    "queries = [[6, 6]]"
   ]
  },
  {
   "cell_type": "code",
   "execution_count": 55,
   "metadata": {},
   "outputs": [
    {
     "name": "stdout",
     "output_type": "stream",
     "text": [
      "4-nearest neighbours\n",
      "Point: [6, 6]\n",
      "prediced class: c\n",
      "k nearest neighbours\n",
      "    - neighbour: [7, 6]\n",
      "    - distance: 1\n",
      "    - neighbour: [4, 6]\n",
      "    - distance: 2\n",
      "    - neighbour: [5, 7]\n",
      "    - distance: 2\n",
      "    - neighbour: [6, 8]\n",
      "    - distance: 2\n"
     ]
    }
   ],
   "source": [
    "knn_manhattan(queries, points, classes, 4)"
   ]
  },
  {
   "cell_type": "code",
   "execution_count": 56,
   "metadata": {},
   "outputs": [
    {
     "name": "stdout",
     "output_type": "stream",
     "text": [
      "7-nearest neighbours\n",
      "Point: [6, 6]\n",
      "prediced class: c\n",
      "k nearest neighbours\n",
      "    - neighbour: [7, 6]\n",
      "    - distance: 1\n",
      "    - neighbour: [4, 6]\n",
      "    - distance: 2\n",
      "    - neighbour: [5, 7]\n",
      "    - distance: 2\n",
      "    - neighbour: [6, 8]\n",
      "    - distance: 2\n",
      "    - neighbour: [5, 4]\n",
      "    - distance: 3\n",
      "    - neighbour: [6, 3]\n",
      "    - distance: 3\n",
      "    - neighbour: [7, 4]\n",
      "    - distance: 3\n"
     ]
    }
   ],
   "source": [
    "knn_manhattan(queries, points, classes, 7)"
   ]
  },
  {
   "cell_type": "code",
   "execution_count": 57,
   "metadata": {},
   "outputs": [
    {
     "name": "stdout",
     "output_type": "stream",
     "text": [
      "10-nearest neighbours\n",
      "Point: [6, 6]\n",
      "prediced class: s\n",
      "k nearest neighbours\n",
      "    - neighbour: [7, 6]\n",
      "    - distance: 1\n",
      "    - neighbour: [4, 6]\n",
      "    - distance: 2\n",
      "    - neighbour: [5, 7]\n",
      "    - distance: 2\n",
      "    - neighbour: [6, 8]\n",
      "    - distance: 2\n",
      "    - neighbour: [5, 4]\n",
      "    - distance: 3\n",
      "    - neighbour: [6, 3]\n",
      "    - distance: 3\n",
      "    - neighbour: [7, 4]\n",
      "    - distance: 3\n",
      "    - neighbour: [6, 1]\n",
      "    - distance: 5\n",
      "    - neighbour: [7, 2]\n",
      "    - distance: 5\n",
      "    - neighbour: [8, 3]\n",
      "    - distance: 5\n"
     ]
    }
   ],
   "source": [
    "knn_manhattan(queries, points, classes, 10)"
   ]
  },
  {
   "cell_type": "markdown",
   "metadata": {},
   "source": [
    "# Exam"
   ]
  },
  {
   "cell_type": "markdown",
   "metadata": {},
   "source": [
    "![title](imgs/Screenshot_12.png)"
   ]
  },
  {
   "cell_type": "code",
   "execution_count": 60,
   "metadata": {},
   "outputs": [],
   "source": [
    "points = [\n",
    "    [2, 9], [3, 4], [4, 4],\n",
    "    [4, 6], [4, 6], [4, 8],\n",
    "    [5, 2], [5, 7], [6, 1],\n",
    "    [6, 3], [6, 4], [6, 6],\n",
    "    [7, 2], [7, 3], [7, 5],\n",
    "    [8, 2], [8, 5], [8, 9],\n",
    "    [9, 3]\n",
    "    ]\n",
    "classes = [\n",
    "    \"c\", \"s\", \"s\",\n",
    "    \"s\", \"s\", \"s\",\n",
    "    \"s\" , \"s\", \"s\",\n",
    "    \"c\", \"c\", \"s\",\n",
    "    \"c\", \"c\", \"s\",\n",
    "    \"c\", \"c\", \"s\",\n",
    "    \"s\"\n",
    "    ]\n",
    "queries = [[7, 4]]"
   ]
  },
  {
   "cell_type": "markdown",
   "metadata": {},
   "source": [
    "**3:** False"
   ]
  },
  {
   "cell_type": "code",
   "execution_count": 61,
   "metadata": {},
   "outputs": [
    {
     "name": "stdout",
     "output_type": "stream",
     "text": [
      "3-nearest neighbours\n",
      "Point: [7, 4]\n",
      "prediced class: c\n",
      "k nearest neighbours\n",
      "    - neighbour: [6, 4]\n",
      "    - distance: 1\n",
      "    - neighbour: [7, 3]\n",
      "    - distance: 1\n",
      "    - neighbour: [7, 5]\n",
      "    - distance: 1\n"
     ]
    }
   ],
   "source": [
    "knn_manhattan(queries, points, classes, k = 3)"
   ]
  },
  {
   "cell_type": "markdown",
   "metadata": {},
   "source": [
    "**6:** False"
   ]
  },
  {
   "cell_type": "code",
   "execution_count": 62,
   "metadata": {},
   "outputs": [
    {
     "name": "stdout",
     "output_type": "stream",
     "text": [
      "6-nearest neighbours\n",
      "Point: [7, 4]\n",
      "prediced class: c\n",
      "k nearest neighbours\n",
      "    - neighbour: [6, 4]\n",
      "    - distance: 1\n",
      "    - neighbour: [7, 3]\n",
      "    - distance: 1\n",
      "    - neighbour: [7, 5]\n",
      "    - distance: 1\n",
      "    - neighbour: [6, 3]\n",
      "    - distance: 2\n",
      "    - neighbour: [7, 2]\n",
      "    - distance: 2\n",
      "    - neighbour: [8, 5]\n",
      "    - distance: 2\n"
     ]
    }
   ],
   "source": [
    "knn_manhattan(queries, points, classes, k = 6)"
   ]
  },
  {
   "cell_type": "markdown",
   "metadata": {},
   "source": [
    "**10:** False"
   ]
  },
  {
   "cell_type": "code",
   "execution_count": 63,
   "metadata": {},
   "outputs": [
    {
     "name": "stdout",
     "output_type": "stream",
     "text": [
      "10-nearest neighbours\n",
      "Point: [7, 4]\n",
      "prediced class: c\n",
      "k nearest neighbours\n",
      "    - neighbour: [6, 4]\n",
      "    - distance: 1\n",
      "    - neighbour: [7, 3]\n",
      "    - distance: 1\n",
      "    - neighbour: [7, 5]\n",
      "    - distance: 1\n",
      "    - neighbour: [6, 3]\n",
      "    - distance: 2\n",
      "    - neighbour: [7, 2]\n",
      "    - distance: 2\n",
      "    - neighbour: [8, 5]\n",
      "    - distance: 2\n",
      "    - neighbour: [4, 4]\n",
      "    - distance: 3\n",
      "    - neighbour: [6, 6]\n",
      "    - distance: 3\n",
      "    - neighbour: [8, 2]\n",
      "    - distance: 3\n",
      "    - neighbour: [9, 3]\n",
      "    - distance: 3\n"
     ]
    }
   ],
   "source": [
    "knn_manhattan(queries, points, classes, k = 10)"
   ]
  },
  {
   "cell_type": "markdown",
   "metadata": {},
   "source": [
    "**13:** True"
   ]
  },
  {
   "cell_type": "code",
   "execution_count": 64,
   "metadata": {},
   "outputs": [
    {
     "name": "stdout",
     "output_type": "stream",
     "text": [
      "13-nearest neighbours\n",
      "Point: [7, 4]\n",
      "prediced class: s\n",
      "k nearest neighbours\n",
      "    - neighbour: [6, 4]\n",
      "    - distance: 1\n",
      "    - neighbour: [7, 3]\n",
      "    - distance: 1\n",
      "    - neighbour: [7, 5]\n",
      "    - distance: 1\n",
      "    - neighbour: [6, 3]\n",
      "    - distance: 2\n",
      "    - neighbour: [7, 2]\n",
      "    - distance: 2\n",
      "    - neighbour: [8, 5]\n",
      "    - distance: 2\n",
      "    - neighbour: [4, 4]\n",
      "    - distance: 3\n",
      "    - neighbour: [6, 6]\n",
      "    - distance: 3\n",
      "    - neighbour: [8, 2]\n",
      "    - distance: 3\n",
      "    - neighbour: [9, 3]\n",
      "    - distance: 3\n",
      "    - neighbour: [3, 4]\n",
      "    - distance: 4\n",
      "    - neighbour: [5, 2]\n",
      "    - distance: 4\n",
      "    - neighbour: [6, 1]\n",
      "    - distance: 4\n"
     ]
    }
   ],
   "source": [
    "knn_manhattan(queries, points, classes, k = 13)"
   ]
  },
  {
   "cell_type": "markdown",
   "metadata": {},
   "source": [
    "**15:** True"
   ]
  },
  {
   "cell_type": "code",
   "execution_count": 65,
   "metadata": {},
   "outputs": [
    {
     "name": "stdout",
     "output_type": "stream",
     "text": [
      "15-nearest neighbours\n",
      "Point: [7, 4]\n",
      "prediced class: s\n",
      "k nearest neighbours\n",
      "    - neighbour: [6, 4]\n",
      "    - distance: 1\n",
      "    - neighbour: [7, 3]\n",
      "    - distance: 1\n",
      "    - neighbour: [7, 5]\n",
      "    - distance: 1\n",
      "    - neighbour: [6, 3]\n",
      "    - distance: 2\n",
      "    - neighbour: [7, 2]\n",
      "    - distance: 2\n",
      "    - neighbour: [8, 5]\n",
      "    - distance: 2\n",
      "    - neighbour: [4, 4]\n",
      "    - distance: 3\n",
      "    - neighbour: [6, 6]\n",
      "    - distance: 3\n",
      "    - neighbour: [8, 2]\n",
      "    - distance: 3\n",
      "    - neighbour: [9, 3]\n",
      "    - distance: 3\n",
      "    - neighbour: [3, 4]\n",
      "    - distance: 4\n",
      "    - neighbour: [5, 2]\n",
      "    - distance: 4\n",
      "    - neighbour: [6, 1]\n",
      "    - distance: 4\n",
      "    - neighbour: [4, 6]\n",
      "    - distance: 5\n",
      "    - neighbour: [4, 6]\n",
      "    - distance: 5\n"
     ]
    }
   ],
   "source": [
    "knn_manhattan(queries, points, classes, k = 15)"
   ]
  },
  {
   "cell_type": "markdown",
   "metadata": {},
   "source": [
    "**16:** True"
   ]
  },
  {
   "cell_type": "code",
   "execution_count": 66,
   "metadata": {},
   "outputs": [
    {
     "name": "stdout",
     "output_type": "stream",
     "text": [
      "16-nearest neighbours\n",
      "Point: [7, 4]\n",
      "prediced class: s\n",
      "k nearest neighbours\n",
      "    - neighbour: [6, 4]\n",
      "    - distance: 1\n",
      "    - neighbour: [7, 3]\n",
      "    - distance: 1\n",
      "    - neighbour: [7, 5]\n",
      "    - distance: 1\n",
      "    - neighbour: [6, 3]\n",
      "    - distance: 2\n",
      "    - neighbour: [7, 2]\n",
      "    - distance: 2\n",
      "    - neighbour: [8, 5]\n",
      "    - distance: 2\n",
      "    - neighbour: [4, 4]\n",
      "    - distance: 3\n",
      "    - neighbour: [6, 6]\n",
      "    - distance: 3\n",
      "    - neighbour: [8, 2]\n",
      "    - distance: 3\n",
      "    - neighbour: [9, 3]\n",
      "    - distance: 3\n",
      "    - neighbour: [3, 4]\n",
      "    - distance: 4\n",
      "    - neighbour: [5, 2]\n",
      "    - distance: 4\n",
      "    - neighbour: [6, 1]\n",
      "    - distance: 4\n",
      "    - neighbour: [4, 6]\n",
      "    - distance: 5\n",
      "    - neighbour: [4, 6]\n",
      "    - distance: 5\n",
      "    - neighbour: [5, 7]\n",
      "    - distance: 5\n"
     ]
    }
   ],
   "source": [
    "knn_manhattan(queries, points, classes, k = 16)"
   ]
  },
  {
   "cell_type": "markdown",
   "metadata": {},
   "source": [
    "**17:** True"
   ]
  },
  {
   "cell_type": "code",
   "execution_count": 67,
   "metadata": {},
   "outputs": [
    {
     "name": "stdout",
     "output_type": "stream",
     "text": [
      "17-nearest neighbours\n",
      "Point: [7, 4]\n",
      "prediced class: s\n",
      "k nearest neighbours\n",
      "    - neighbour: [6, 4]\n",
      "    - distance: 1\n",
      "    - neighbour: [7, 3]\n",
      "    - distance: 1\n",
      "    - neighbour: [7, 5]\n",
      "    - distance: 1\n",
      "    - neighbour: [6, 3]\n",
      "    - distance: 2\n",
      "    - neighbour: [7, 2]\n",
      "    - distance: 2\n",
      "    - neighbour: [8, 5]\n",
      "    - distance: 2\n",
      "    - neighbour: [4, 4]\n",
      "    - distance: 3\n",
      "    - neighbour: [6, 6]\n",
      "    - distance: 3\n",
      "    - neighbour: [8, 2]\n",
      "    - distance: 3\n",
      "    - neighbour: [9, 3]\n",
      "    - distance: 3\n",
      "    - neighbour: [3, 4]\n",
      "    - distance: 4\n",
      "    - neighbour: [5, 2]\n",
      "    - distance: 4\n",
      "    - neighbour: [6, 1]\n",
      "    - distance: 4\n",
      "    - neighbour: [4, 6]\n",
      "    - distance: 5\n",
      "    - neighbour: [4, 6]\n",
      "    - distance: 5\n",
      "    - neighbour: [5, 7]\n",
      "    - distance: 5\n",
      "    - neighbour: [8, 9]\n",
      "    - distance: 6\n"
     ]
    }
   ],
   "source": [
    "knn_manhattan(queries, points, classes, k = 17)"
   ]
  },
  {
   "cell_type": "markdown",
   "metadata": {},
   "source": [
    "**18:** True"
   ]
  },
  {
   "cell_type": "code",
   "execution_count": 69,
   "metadata": {},
   "outputs": [
    {
     "name": "stdout",
     "output_type": "stream",
     "text": [
      "18-nearest neighbours\n",
      "Point: [7, 4]\n",
      "prediced class: s\n",
      "k nearest neighbours\n",
      "    - neighbour: [6, 4]\n",
      "    - distance: 1\n",
      "    - neighbour: [7, 3]\n",
      "    - distance: 1\n",
      "    - neighbour: [7, 5]\n",
      "    - distance: 1\n",
      "    - neighbour: [6, 3]\n",
      "    - distance: 2\n",
      "    - neighbour: [7, 2]\n",
      "    - distance: 2\n",
      "    - neighbour: [8, 5]\n",
      "    - distance: 2\n",
      "    - neighbour: [4, 4]\n",
      "    - distance: 3\n",
      "    - neighbour: [6, 6]\n",
      "    - distance: 3\n",
      "    - neighbour: [8, 2]\n",
      "    - distance: 3\n",
      "    - neighbour: [9, 3]\n",
      "    - distance: 3\n",
      "    - neighbour: [3, 4]\n",
      "    - distance: 4\n",
      "    - neighbour: [5, 2]\n",
      "    - distance: 4\n",
      "    - neighbour: [6, 1]\n",
      "    - distance: 4\n",
      "    - neighbour: [4, 6]\n",
      "    - distance: 5\n",
      "    - neighbour: [4, 6]\n",
      "    - distance: 5\n",
      "    - neighbour: [5, 7]\n",
      "    - distance: 5\n",
      "    - neighbour: [8, 9]\n",
      "    - distance: 6\n",
      "    - neighbour: [4, 8]\n",
      "    - distance: 7\n"
     ]
    }
   ],
   "source": [
    "knn_manhattan(queries, points, classes, k = 18)"
   ]
  },
  {
   "cell_type": "markdown",
   "metadata": {},
   "source": [
    "![itl](imgs/Screenshot_18.png)"
   ]
  },
  {
   "cell_type": "code",
   "execution_count": 70,
   "metadata": {},
   "outputs": [
    {
     "data": {
      "image/png": "[encoded data removed]",
      "text/plain": [
       "<Figure size 640x480 with 2 Axes>"
      ]
     },
     "metadata": {},
     "output_type": "display_data"
    },
    {
     "name": "stdout",
     "output_type": "stream",
     "text": [
      "              precision    recall  f1-score   support\n",
      "\n",
      "           A       0.75      0.60      0.67         5\n",
      "           B       0.60      0.75      0.67         4\n",
      "           C       0.33      0.33      0.33         3\n",
      "\n",
      "    accuracy                           0.58        12\n",
      "   macro avg       0.56      0.56      0.56        12\n",
      "weighted avg       0.60      0.58      0.58        12\n",
      "\n"
     ]
    }
   ],
   "source": [
    "actual = [\"A\", \"A\", \"A\", \"A\", \"B\", \"A\", \"B\", \"B\", \"B\", \"C\", \"C\", \"C\"]\n",
    "predicted = [\"A\", \"A\", \"C\", \"B\", \"B\", \"A\", \"B\", \"B\", \"C\", \"B\", \"A\", \"C\"]\n",
    "confusion_matrix(actual, predicted)"
   ]
  },
  {
   "cell_type": "markdown",
   "metadata": {},
   "source": [
    "**recall for class A > recall for class B :** FALSE"
   ]
  },
  {
   "cell_type": "markdown",
   "metadata": {},
   "source": [
    "**precision for class A > precision for class C :** FALSE"
   ]
  }
 ],
 "metadata": {
  "kernelspec": {
   "display_name": "Python 3.10.11 64-bit (microsoft store)",
   "language": "python",
   "name": "python3"
  },
  "language_info": {
   "codemirror_mode": {
    "name": "ipython",
    "version": 3
   },
   "file_extension": ".py",
   "mimetype": "text/x-python",
   "name": "python",
   "nbconvert_exporter": "python",
   "pygments_lexer": "ipython3",
   "version": "3.10.11"
  },
  "orig_nbformat": 4,
  "vscode": {
   "interpreter": {
    "hash": "aa82987a71ca0339a52998cd22613b0c002bda8349fa32a0cb67ceec3936a2bf"
   }
  }
 },
 "nbformat": 4,
 "nbformat_minor": 2
}
