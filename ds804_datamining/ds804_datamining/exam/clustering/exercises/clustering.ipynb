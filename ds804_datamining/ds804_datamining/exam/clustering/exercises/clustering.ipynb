{
 "cells": [
  {
   "cell_type": "markdown",
   "metadata": {},
   "source": [
    "# Exercise 4-5  "
   ]
  },
  {
   "cell_type": "code",
   "execution_count": 33,
   "metadata": {},
   "outputs": [],
   "source": [
    "import numpy as np\n",
    "\n",
    "\n",
    "def euclidian_dist(point_1: list[int | float], point_2: list[int | float]) -> float:\n",
    "    \"\"\" \n",
    "    Returns the euclidian distance between two points\n",
    "    \"\"\"\n",
    "    res = []\n",
    "    for p_1, p_2 in zip(point_1, point_2):\n",
    "        res.append(abs(p_1 - p_2)**2)\n",
    "        \n",
    "    return sum(res)**(1/2)\n",
    "    \n",
    "\n",
    "def manhattan_dist(point_1: list[int | float], point_2: list[int | float]) -> float:\n",
    "    \"\"\" \n",
    "    Returns the manhattan distance between two points\n",
    "    \"\"\"\n",
    "    res = []\n",
    "    for p_1, p_2 in zip(point_1, point_2):\n",
    "        res.append(abs(p_1 - p_2))\n",
    "        \n",
    "    return sum(res)\n",
    "\n",
    "\n",
    "def max_norm_dist(point_1: list[int | float], point_2: list[int | float]) -> float:\n",
    "    \"\"\"\n",
    "    Returns the max norm distance between two points\n",
    "    \"\"\"\n",
    "    res = []\n",
    "    for p_1, p_2 in zip(point_1, point_2):\n",
    "        res.append(abs(p_1 - p_2))\n",
    "        \n",
    "    return max(res)\n",
    "\n",
    "\n",
    "def weigthed_euclidian_dist(point_1: list[int | float],\n",
    "                            point_2: list[int | float],\n",
    "                            weights: list[int | float]) -> float:\n",
    "    \"\"\"\n",
    "    Returns the weighted euclidian distance between two points and a list of weights\n",
    "    The length of the array must be the same as the length of the points\n",
    "    \"\"\"\n",
    "    res = []\n",
    "    for p_1, p_2, w in zip(point_1, point_2, weights):\n",
    "        res.append(w * (abs(p_1 - p_2)))\n",
    "        \n",
    "    return sum(res)**(1/2)\n",
    "\n",
    "\n",
    "def quadratic_dist(point_1: list[int | float],\n",
    "                   point_2: list[int | float],\n",
    "                   w_matrix: list[list[int | float]]) -> float:\n",
    "    \"\"\" \n",
    "    Returns the quadratic distance\n",
    "    \"\"\"\n",
    "    point_1 = np.array(point_1)\n",
    "    point_2 = np.array(point_2)\n",
    "    w_matrix = np.array(w_matrix)\n",
    "    return ((point_1 - point_2) @ w_matrix @ (np.transpose(point_1) - np.transpose(point_2)))**(1/2)\n",
    "\n",
    "\n",
    "def custom_dist(point_1: list[int | float],\n",
    "                point_2: list[int | float],\n",
    "                p: int | float) -> float:\n",
    "    \"\"\" \n",
    "    \"\"\"\n",
    "    \n",
    "    res = []\n",
    "    for p_1, p_2 in zip(point_1, point_2):\n",
    "        res.append((abs(p_1 - p_2))**p)\n",
    "        \n",
    "    return sum(res)**(1/p) "
   ]
  },
  {
   "cell_type": "code",
   "execution_count": 26,
   "metadata": {},
   "outputs": [],
   "source": [
    "from statistics import mean\n",
    "from statistics import mode, StatisticsError\n",
    "from random import randint\n",
    "from typing import Iterable \n",
    "from typing import Iterable \n",
    "#from collections import Iterable                            # < py38\n",
    "\n",
    "\n",
    "def flatten(items):\n",
    "    \"\"\"Yield items from any nested iterable; see Reference.\"\"\"\n",
    "    for x in items:\n",
    "        if isinstance(x, Iterable) and not isinstance(x, (str, bytes)):\n",
    "            for sub_x in flatten(x):\n",
    "                yield sub_x\n",
    "        else:\n",
    "            yield x\n",
    "            \n",
    "\n",
    "def get_min_index(my_list):\n",
    "    \"\"\" \n",
    "    \"\"\"\n",
    "    # inbuilt function to find the position of minimum\n",
    "    return my_list.index(min(my_list))\n",
    "\n",
    "\n",
    "def flatten(items):\n",
    "    \"\"\"Yield items from any nested iterable; see Reference.\"\"\"\n",
    "    for x in items:\n",
    "        if isinstance(x, Iterable) and not isinstance(x, (str, bytes)):\n",
    "            for sub_x in flatten(x):\n",
    "                yield sub_x\n",
    "        else:\n",
    "            yield x\n",
    "\n",
    "            \n",
    "def get_td_2(cluster, centroid):\n",
    "    res = 0\n",
    "    for p in cluster:\n",
    "        res += abs(p[0] - centroid[0])**2\n",
    "    return res\n",
    "\n",
    "                    \n",
    "def get_total_td_2(clusters, centroids):\n",
    "    res = 0\n",
    "    for i, cluster in enumerate(clusters):\n",
    "        res += get_td_2(cluster, centroids[i])\n",
    "    return res\n",
    "\n",
    "def get_simplified_silhoutte(clusters, centroids):\n",
    "    \"\"\" \n",
    "    \n",
    "    \"\"\"\n",
    "    cluster_silhouttes = []\n",
    "    for i, cluster in enumerate(clusters):\n",
    "\n",
    "        silhuette_values = []\n",
    "        for p in cluster:\n",
    "            a_o = euclidian_dist(p, centroids[i])\n",
    "            distances = [euclidian_dist(p, centroid) for j, centroid in enumerate(centroids) if j != i]\n",
    "            min_index = get_min_index(distances)\n",
    "            b_o = distances[min_index]\n",
    "            silhuette = ( b_o - a_o ) / max([a_o, b_o])\n",
    "            silhuette_values.append(silhuette)\n",
    "        cluster_silhoutte = mean(silhuette_values)\n",
    "        cluster_silhouttes.append(cluster_silhoutte)\n",
    "    return cluster_silhouttes\n",
    "\n",
    "\n",
    "def get_total_sihoutte(clusters, centriods):\n",
    "    \"\"\" \n",
    "    \n",
    "    \"\"\"\n",
    "    \n",
    "    return mean(get_simplified_silhoutte(clusters, centriods))\n",
    "\n",
    "               \n",
    "def forgy_loyd(points, k, centroids = None):\n",
    "    \"\"\" \n",
    "    \n",
    "    \"\"\"\n",
    "    \n",
    "    if centroids == None:\n",
    "        centroids = []\n",
    "        \n",
    "        for i in range(k):\n",
    "            match = False\n",
    "            \n",
    "            while not match:\n",
    "                centroid = points[randint(0, len(points) - 1)]\n",
    "                if centroid not in centroids:\n",
    "                    centroids.append(centroid)\n",
    "                    match = True\n",
    "                \n",
    "            \n",
    "    prev_clusters = [[] for _ in range(k)]\n",
    "    clusters = [[] for _ in range(k)]\n",
    "    \n",
    "    j = 1\n",
    "    for p in points:  \n",
    "        distances = [euclidian_dist(p, centroid) for centroid in centroids]\n",
    "        min_index = get_min_index(distances)\n",
    "        clusters[min_index].append(p)\n",
    "    \n",
    "    temp_clusters = []\n",
    "    temp_centroids = []\n",
    "    for l, cluster in enumerate(clusters):\n",
    "        if len(cluster) > 0:\n",
    "            temp_clusters.append(cluster)\n",
    "            temp_centroids.append(centroids[l])\n",
    "        else:\n",
    "            k = k - 1\n",
    "    clusters = temp_clusters \n",
    "    centroids = temp_centroids\n",
    "    \n",
    "    \n",
    "    silhouttes = get_simplified_silhoutte(clusters, centroids)\n",
    "    tot_silhoutte = get_total_sihoutte(clusters, centroids)        \n",
    "    print(\"-----------------------------------\")\n",
    "    print(f\"iteation: {j}\")\n",
    "    print(f\"centroids: {centroids}\")\n",
    "    print(f\"Total td**2: {get_total_td_2(clusters, centroids)}\")\n",
    "    print(f\"Total silhoutte: {tot_silhoutte}\")\n",
    "    print(\"-----------------------------------\")\n",
    "    for i, cluster in enumerate(clusters):\n",
    "        print(f\"    - cluster {i + 1}: {cluster}\")\n",
    "        print(f\"    - Td**2: {get_td_2(cluster, centroids[i])}\")\n",
    "        print(f\"    - Silhoutte: {silhouttes[i]}\")\n",
    "\n",
    "    \n",
    "    \n",
    "    while prev_clusters != clusters:\n",
    "        j += 1 \n",
    "        prev_clusters = clusters\n",
    "        for i, cluster in enumerate(clusters):\n",
    "            try:\n",
    "                centroids[i] = [mean(flatten(cluster))]\n",
    "            except StatisticsError:\n",
    "                del centroids[i]\n",
    "                del clusters[i]\n",
    "                k = k -1\n",
    "                \n",
    "        clusters = [[] for _ in range(k)]\n",
    "        for p in points:  \n",
    "            distances = [euclidian_dist(p, centroid) for centroid in centroids]\n",
    "            min_index = get_min_index(distances)\n",
    "            clusters[min_index].append(p)\n",
    "        \n",
    "        temp_clusters = []\n",
    "        temp_centroids = []\n",
    "        for l, cluster in enumerate(clusters):\n",
    "            if len(cluster) > 0:\n",
    "                temp_clusters.append(cluster)\n",
    "                temp_centroids.append(centroids[l])\n",
    "            else:\n",
    "                k = k - 1\n",
    "        clusters = temp_clusters \n",
    "        centroids = temp_centroids\n",
    "        \n",
    "        silhouttes = get_simplified_silhoutte(clusters, centroids)\n",
    "        tot_silhoutte = get_total_sihoutte(clusters, centroids)        \n",
    "        print(\"-----------------------------------\")\n",
    "        print(f\"iteation: {j}\")\n",
    "        print(f\"centroids: {centroids}\")\n",
    "        print(f\"Total td**2: {get_total_td_2(clusters, centroids)}\")\n",
    "        print(f\"Total silhoutte: {tot_silhoutte}\")\n",
    "        print(\"-----------------------------------\")\n",
    "        for i, cluster in enumerate(clusters):\n",
    "            print(f\"    - cluster {i + 1}: {cluster}\")\n",
    "            print(f\"    - Td**2: {get_td_2(cluster, centroids[i])}\")\n",
    "            print(f\"    - Silhoutte: {silhouttes[i]}\")\n",
    "\n",
    "\n",
    "       \n",
    "\n",
    "    silhouttes = get_simplified_silhoutte(clusters, centroids)\n",
    "    tot_silhoutte = get_total_sihoutte(clusters, centroids)        \n",
    "    print(\"-----------------------------------\")\n",
    "    print(f\"Final RESULTs\")\n",
    "    print(f\"iteation: {j}\")\n",
    "    print(f\"centroids: {centroids}\")\n",
    "    print(f\"Total td**2: {get_total_td_2(clusters, centroids)}\")\n",
    "    print(f\"Total silhoutte: {tot_silhoutte}\")\n",
    "    print(\"-----------------------------------\")\n",
    "    for i, cluster in enumerate(clusters):\n",
    "        print(f\"    - cluster {i + 1}: {cluster}\")\n",
    "        print(f\"    - Td**2: {get_td_2(cluster, centroids[i])}\")\n",
    "        print(f\"    - Silhoutte: {silhouttes[i]}\")\n",
    "\n",
    "    \n",
    "    return (clusters, centroids)\n",
    "    "
   ]
  },
  {
   "cell_type": "markdown",
   "metadata": {},
   "source": [
    "![title](imgs/Screenshot_2.png)"
   ]
  },
  {
   "cell_type": "code",
   "execution_count": 3,
   "metadata": {},
   "outputs": [
    {
     "name": "stdout",
     "output_type": "stream",
     "text": [
      "[0.5284865898623086, 0.8591012153970738]\n",
      "0.6937939026296912\n"
     ]
    }
   ],
   "source": [
    "cluster_1 = [[1, 5], [2, 3], [3, 4], [10, 1]]\n",
    "cluster_2 = [[6, 8], [7,7], [7, 8], [7, 9]]\n",
    "\n",
    "clusters = [cluster_1, cluster_2]\n",
    "centriods = [[4, 3.25], [6.75, 8]]\n",
    "\n",
    "print(get_simplified_silhoutte(clusters, centriods))\n",
    "print(get_total_sihoutte(clusters, centriods))        "
   ]
  },
  {
   "cell_type": "code",
   "execution_count": 4,
   "metadata": {},
   "outputs": [
    {
     "name": "stdout",
     "output_type": "stream",
     "text": [
      "[0.030769230769230847, -0.0504837960028733]\n",
      "-0.009857282616821228\n"
     ]
    }
   ],
   "source": [
    "cluster_1 = [[10, 1]]\n",
    "cluster_2 = [[2, 3], [3, 3], [1, 4], [6, 8], [7, 7], [7, 8], [7, 9]]\n",
    "\n",
    "clusters = [cluster_1, cluster_2]\n",
    "centriods = [[mean(list(flatten(cluster_1)))], [mean(list(flatten(cluster_2)))]]\n",
    "\n",
    "print(get_simplified_silhoutte(clusters, centriods))\n",
    "print(get_total_sihoutte(clusters, centriods))  "
   ]
  },
  {
   "cell_type": "code",
   "execution_count": 5,
   "metadata": {},
   "outputs": [
    {
     "name": "stdout",
     "output_type": "stream",
     "text": [
      "[0.8287037037037036, 0.8531211750305997]\n",
      "0.8409124393671517\n"
     ]
    }
   ],
   "source": [
    "cluster_1 = [[1,4], [2, 3], [3, 4]]\n",
    "cluster_2 = [[6, 8], [7, 7], [7, 8], [7, 9], [10, 1]]\n",
    "\n",
    "clusters = [cluster_1, cluster_2]\n",
    "centriods = [[mean(list(flatten(cluster_1)))], [mean(list(flatten(cluster_2)))]]\n",
    "\n",
    "print(get_simplified_silhoutte(clusters, centriods))\n",
    "print(get_total_sihoutte(clusters, centriods))  "
   ]
  },
  {
   "cell_type": "markdown",
   "metadata": {},
   "source": [
    "![title](imgs/Screenshot_16.png)"
   ]
  },
  {
   "cell_type": "code",
   "execution_count": 6,
   "metadata": {},
   "outputs": [
    {
     "name": "stdout",
     "output_type": "stream",
     "text": [
      "-----------------------------------\n",
      "iteation: 1\n",
      "centroids: [[2], [4], [6]]\n",
      "Total td**2: 1211\n",
      "Total silhoutte: 0.5647893772893773\n",
      "-----------------------------------\n",
      "    - cluster 1: [[2], [3]]\n",
      "    - Td**2: 1\n",
      "    - Silhoutte: 0.5\n",
      "    - cluster 2: [[4]]\n",
      "    - Td**2: 0\n",
      "    - Silhoutte: 1.0\n",
      "    - cluster 3: [[10], [11], [12], [20], [25], [30]]\n",
      "    - Td**2: 1210\n",
      "    - Silhoutte: 0.19436813186813187\n",
      "-----------------------------------\n",
      "iteation: 2\n",
      "centroids: [[2.5], [4], [18]]\n",
      "Total td**2: 318.5\n",
      "Total silhoutte: 0.5358440170940171\n",
      "-----------------------------------\n",
      "    - cluster 1: [[2], [3]]\n",
      "    - Td**2: 0.5\n",
      "    - Silhoutte: 0.625\n",
      "    - cluster 2: [[4], [10], [11]]\n",
      "    - Td**2: 85\n",
      "    - Silhoutte: 0.4\n",
      "    - cluster 3: [[12], [20], [25], [30]]\n",
      "    - Td**2: 233\n",
      "    - Silhoutte: 0.5825320512820513\n",
      "-----------------------------------\n",
      "iteation: 3\n",
      "centroids: [[2.5], [8.333333333333334], [21.75]]\n",
      "Total td**2: 107.77083333333331\n",
      "Total silhoutte: 0.7592741033285408\n",
      "-----------------------------------\n",
      "    - cluster 1: [[2], [3], [4]]\n",
      "    - Td**2: 2.75\n",
      "    - Silhoutte: 0.8270495951417004\n",
      "    - cluster 2: [[10], [11], [12]]\n",
      "    - Td**2: 23.33333333333332\n",
      "    - Silhoutte: 0.6926957917669992\n",
      "    - cluster 3: [[20], [25], [30]]\n",
      "    - Td**2: 81.6875\n",
      "    - Silhoutte: 0.758076923076923\n",
      "-----------------------------------\n",
      "iteation: 4\n",
      "centroids: [[3], [11], [25]]\n",
      "Total td**2: 54\n",
      "Total silhoutte: 0.8525944490856772\n",
      "-----------------------------------\n",
      "    - cluster 1: [[2], [3], [4]]\n",
      "    - Td**2: 2\n",
      "    - Silhoutte: 0.9153439153439153\n",
      "    - cluster 2: [[10], [11], [12]]\n",
      "    - Td**2: 2\n",
      "    - Silhoutte: 0.9153439153439153\n",
      "    - cluster 3: [[20], [25], [30]]\n",
      "    - Td**2: 50\n",
      "    - Silhoutte: 0.7270955165692008\n",
      "-----------------------------------\n",
      "Final RESULTs\n",
      "iteation: 4\n",
      "centroids: [[3], [11], [25]]\n",
      "Total td**2: 54\n",
      "Total silhoutte: 0.8525944490856772\n",
      "-----------------------------------\n",
      "    - cluster 1: [[2], [3], [4]]\n",
      "    - Td**2: 2\n",
      "    - Silhoutte: 0.9153439153439153\n",
      "    - cluster 2: [[10], [11], [12]]\n",
      "    - Td**2: 2\n",
      "    - Silhoutte: 0.9153439153439153\n",
      "    - cluster 3: [[20], [25], [30]]\n",
      "    - Td**2: 50\n",
      "    - Silhoutte: 0.7270955165692008\n"
     ]
    },
    {
     "data": {
      "text/plain": [
       "0.8525944490856772"
      ]
     },
     "execution_count": 6,
     "metadata": {},
     "output_type": "execute_result"
    }
   ],
   "source": [
    "points = [[2], [3], [4], [10], [11], [12], [20], [25], [30]]\n",
    "clusters, centroids = forgy_loyd(points, 3, centroids = [[2], [4], [6]])"
   ]
  },
  {
   "cell_type": "markdown",
   "metadata": {},
   "source": [
    "![title](imgs/Screenshot_1.png)"
   ]
  },
  {
   "cell_type": "code",
   "execution_count": 7,
   "metadata": {},
   "outputs": [
    {
     "name": "stdout",
     "output_type": "stream",
     "text": [
      "-----------------------------------\n",
      "iteation: 1\n",
      "centroids: [[3, 4], [7, 7]]\n",
      "Total td**2: 6\n",
      "Total silhoutte: 0.7277347340561804\n",
      "-----------------------------------\n",
      "    - cluster 1: [[1, 5], [2, 3]]\n",
      "    - Td**2: 5\n",
      "    - Silhoutte: 0.7127917786285166\n",
      "    - cluster 2: [[6, 8], [7, 8], [7, 9]]\n",
      "    - Td**2: 1\n",
      "    - Silhoutte: 0.742677689483844\n",
      "-----------------------------------\n",
      "iteation: 2\n",
      "centroids: [[2.75], [7.5]]\n",
      "Total td**2: 6.375\n",
      "Total silhoutte: 0.7824626354038118\n",
      "-----------------------------------\n",
      "    - cluster 1: [[1, 5], [2, 3]]\n",
      "    - Td**2: 3.625\n",
      "    - Silhoutte: 0.7972027972027972\n",
      "    - cluster 2: [[6, 8], [7, 8], [7, 9]]\n",
      "    - Td**2: 2.75\n",
      "    - Silhoutte: 0.7677224736048265\n",
      "-----------------------------------\n",
      "Final RESULTs\n",
      "iteation: 2\n",
      "centroids: [[2.75], [7.5]]\n",
      "Total td**2: 6.375\n",
      "Total silhoutte: 0.7824626354038118\n",
      "-----------------------------------\n",
      "    - cluster 1: [[1, 5], [2, 3]]\n",
      "    - Td**2: 3.625\n",
      "    - Silhoutte: 0.7972027972027972\n",
      "    - cluster 2: [[6, 8], [7, 8], [7, 9]]\n",
      "    - Td**2: 2.75\n",
      "    - Silhoutte: 0.7677224736048265\n"
     ]
    },
    {
     "data": {
      "text/plain": [
       "0.7824626354038118"
      ]
     },
     "execution_count": 7,
     "metadata": {},
     "output_type": "execute_result"
    }
   ],
   "source": [
    "points = [[1, 5],\n",
    "          [2, 3],\n",
    "          [6, 8],\n",
    "          [7, 8],\n",
    "          [7, 9]]\n",
    "\n",
    "centroids = [[3, 4], [7, 7], [10, 1]]\n",
    "\n",
    " \n",
    "clusters, centroids = forgy_loyd(points, 3, centroids)"
   ]
  },
  {
   "cell_type": "code",
   "execution_count": 8,
   "metadata": {},
   "outputs": [
    {
     "name": "stdout",
     "output_type": "stream",
     "text": [
      "-----------------------------------\n",
      "iteation: 1\n",
      "centroids: [[7, 9], [2, 3], [6, 8], [1, 5]]\n",
      "Total td**2: 0\n",
      "Total silhoutte: 0.875\n",
      "-----------------------------------\n",
      "    - cluster 1: [[7, 8], [7, 9]]\n",
      "    - Td**2: 0\n",
      "    - Silhoutte: 0.5\n",
      "    - cluster 2: [[2, 3]]\n",
      "    - Td**2: 0\n",
      "    - Silhoutte: 1.0\n",
      "    - cluster 3: [[6, 8]]\n",
      "    - Td**2: 0\n",
      "    - Silhoutte: 1.0\n",
      "    - cluster 4: [[1, 5]]\n",
      "    - Td**2: 0\n",
      "    - Silhoutte: 1.0\n",
      "-----------------------------------\n",
      "iteation: 2\n",
      "centroids: [[2.5], [7]]\n",
      "Total td**2: 3.5\n",
      "Total silhoutte: 0.8648809523809524\n",
      "-----------------------------------\n",
      "    - cluster 1: [[1, 5], [2, 3]]\n",
      "    - Td**2: 2.5\n",
      "    - Silhoutte: 0.825\n",
      "    - cluster 2: [[6, 8], [7, 8], [7, 9]]\n",
      "    - Td**2: 1\n",
      "    - Silhoutte: 0.9047619047619048\n",
      "-----------------------------------\n",
      "iteation: 3\n",
      "centroids: [[2.75], [7.5]]\n",
      "Total td**2: 6.375\n",
      "Total silhoutte: 0.7824626354038118\n",
      "-----------------------------------\n",
      "    - cluster 1: [[1, 5], [2, 3]]\n",
      "    - Td**2: 3.625\n",
      "    - Silhoutte: 0.7972027972027972\n",
      "    - cluster 2: [[6, 8], [7, 8], [7, 9]]\n",
      "    - Td**2: 2.75\n",
      "    - Silhoutte: 0.7677224736048265\n",
      "-----------------------------------\n",
      "Final RESULTs\n",
      "iteation: 3\n",
      "centroids: [[2.75], [7.5]]\n",
      "Total td**2: 6.375\n",
      "Total silhoutte: 0.7824626354038118\n",
      "-----------------------------------\n",
      "    - cluster 1: [[1, 5], [2, 3]]\n",
      "    - Td**2: 3.625\n",
      "    - Silhoutte: 0.7972027972027972\n",
      "    - cluster 2: [[6, 8], [7, 8], [7, 9]]\n",
      "    - Td**2: 2.75\n",
      "    - Silhoutte: 0.7677224736048265\n"
     ]
    },
    {
     "data": {
      "text/plain": [
       "0.7824626354038118"
      ]
     },
     "execution_count": 8,
     "metadata": {},
     "output_type": "execute_result"
    }
   ],
   "source": [
    "points = [[1, 5],\n",
    "          [2, 3],\n",
    "          [6, 8],\n",
    "          [7, 8],\n",
    "          [7, 9]]\n",
    "#centroids = [[3, 4], [7, 7], [10, 1]]\n",
    "\n",
    "\n",
    "clusters, centroids = forgy_loyd(points, 4)"
   ]
  },
  {
   "cell_type": "code",
   "execution_count": 9,
   "metadata": {},
   "outputs": [
    {
     "name": "stdout",
     "output_type": "stream",
     "text": [
      "-----------------------------------\n",
      "iteation: 1\n",
      "centroids: [[7, 8], [1, 5], [6, 8], [2, 3], [7, 9]]\n",
      "Total td**2: 0\n",
      "Total silhoutte: 1.0\n",
      "-----------------------------------\n",
      "    - cluster 1: [[7, 8]]\n",
      "    - Td**2: 0\n",
      "    - Silhoutte: 1.0\n",
      "    - cluster 2: [[1, 5]]\n",
      "    - Td**2: 0\n",
      "    - Silhoutte: 1.0\n",
      "    - cluster 3: [[6, 8]]\n",
      "    - Td**2: 0\n",
      "    - Silhoutte: 1.0\n",
      "    - cluster 4: [[2, 3]]\n",
      "    - Td**2: 0\n",
      "    - Silhoutte: 1.0\n",
      "    - cluster 5: [[7, 9]]\n",
      "    - Td**2: 0\n",
      "    - Silhoutte: 1.0\n",
      "-----------------------------------\n",
      "iteation: 2\n",
      "centroids: [[7], [2.5]]\n",
      "Total td**2: 3.5\n",
      "Total silhoutte: 0.8648809523809524\n",
      "-----------------------------------\n",
      "    - cluster 1: [[6, 8], [7, 8], [7, 9]]\n",
      "    - Td**2: 1\n",
      "    - Silhoutte: 0.9047619047619048\n",
      "    - cluster 2: [[1, 5], [2, 3]]\n",
      "    - Td**2: 2.5\n",
      "    - Silhoutte: 0.825\n",
      "-----------------------------------\n",
      "iteation: 3\n",
      "centroids: [[7.5], [2.75]]\n",
      "Total td**2: 6.375\n",
      "Total silhoutte: 0.7824626354038118\n",
      "-----------------------------------\n",
      "    - cluster 1: [[6, 8], [7, 8], [7, 9]]\n",
      "    - Td**2: 2.75\n",
      "    - Silhoutte: 0.7677224736048265\n",
      "    - cluster 2: [[1, 5], [2, 3]]\n",
      "    - Td**2: 3.625\n",
      "    - Silhoutte: 0.7972027972027972\n",
      "-----------------------------------\n",
      "Final RESULTs\n",
      "iteation: 3\n",
      "centroids: [[7.5], [2.75]]\n",
      "Total td**2: 6.375\n",
      "Total silhoutte: 0.7824626354038118\n",
      "-----------------------------------\n",
      "    - cluster 1: [[6, 8], [7, 8], [7, 9]]\n",
      "    - Td**2: 2.75\n",
      "    - Silhoutte: 0.7677224736048265\n",
      "    - cluster 2: [[1, 5], [2, 3]]\n",
      "    - Td**2: 3.625\n",
      "    - Silhoutte: 0.7972027972027972\n"
     ]
    }
   ],
   "source": [
    "points = [[1, 5],\n",
    "          [2, 3],\n",
    "          [6, 8],\n",
    "          [7, 8],\n",
    "          [7, 9]]\n",
    "#centroids = [[3, 4], [7, 7], [10, 1]]\n",
    "\n",
    "\n",
    "clusters, centroids = forgy_loyd(points, 5)"
   ]
  },
  {
   "cell_type": "markdown",
   "metadata": {},
   "source": [
    "# MACQUEEN "
   ]
  },
  {
   "cell_type": "code",
   "execution_count": 10,
   "metadata": {},
   "outputs": [
    {
     "name": "stdout",
     "output_type": "stream",
     "text": [
      "-----------------------------------\n",
      "iteation: 1\n",
      "centroids: [[2], [4], [6]]\n",
      "Total td**2: 1211\n",
      "-----------------------------------\n",
      "    - cluster 1: [[2], [3]]\n",
      "    - Td**2: 1\n",
      "    - cluster 2: [[4]]\n",
      "    - Td**2: 0\n",
      "    - cluster 3: [[10], [11], [12], [20], [25], [30]]\n",
      "    - Td**2: 1210\n",
      "\n",
      "-----------------------------------\n",
      "iteation: 2\n",
      "centroids: [[2.5], [4], [18]]\n",
      "Total td**2: 637.0\n",
      "-----------------------------------\n",
      "    - cluster 1: [[2], [2], [3], [3]]\n",
      "    - Td**2: 1.0\n",
      "    - cluster 2: [[4], [10], [10], [11], [11]]\n",
      "    - Td**2: 170\n",
      "    - cluster 3: [[12], [12], [20], [20], [25], [25], [30], [30]]\n",
      "    - Td**2: 466\n",
      "\n",
      "-----------------------------------\n",
      "iteation: 3\n",
      "centroids: [[2.5], [9.2], [21.75]]\n",
      "Total td**2: 192.31500000000003\n",
      "-----------------------------------\n",
      "    - cluster 1: [[2], [2], [3], [3], [4], [4]]\n",
      "    - Td**2: 5.5\n",
      "    - cluster 2: [[10], [10], [11], [11], [12], [12]]\n",
      "    - Td**2: 23.440000000000015\n",
      "    - cluster 3: [[20], [20], [25], [25], [30], [30]]\n",
      "    - Td**2: 163.375\n",
      "\n",
      "-----------------------------------\n",
      "iteation: 4\n",
      "centroids: [[3], [11], [25]]\n",
      "Total td**2: 108\n",
      "-----------------------------------\n",
      "    - cluster 1: [[2], [2], [3], [3], [4], [4]]\n",
      "    - Td**2: 4\n",
      "    - cluster 2: [[10], [10], [11], [11], [12], [12]]\n",
      "    - Td**2: 4\n",
      "    - cluster 3: [[20], [20], [25], [25], [30], [30]]\n",
      "    - Td**2: 100\n",
      "\n",
      "-----------------------------------\n",
      "Final result: \n",
      "centroids: [[3], [11], [25]]\n",
      "Total td**2: 108\n",
      "-----------------------------------\n",
      "    - cluster 1: [[2], [2], [3], [3], [4], [4]]\n",
      "    - Td**2: 4\n",
      "    - cluster 2: [[10], [10], [11], [11], [12], [12]]\n",
      "    - Td**2: 4\n",
      "    - cluster 3: [[20], [20], [25], [25], [30], [30]]\n",
      "    - Td**2: 100\n"
     ]
    }
   ],
   "source": [
    "def macqueen(points, k, centroids = None):\n",
    "    \n",
    "    \n",
    "    if centroids == None:\n",
    "        centroids = []\n",
    "        \n",
    "        for i in range(k):\n",
    "            match = False\n",
    "            \n",
    "            while not match:\n",
    "                centroid = points[randint(0, len(points) - 1)]\n",
    "                if centroid not in centroids:\n",
    "                    centroids.append(centroid)\n",
    "                    match = True\n",
    "                \n",
    "            \n",
    "    prev_clusters = [[] for _ in range(k)]\n",
    "    clusters = [[] for _ in range(k)]\n",
    "    \n",
    "    j = 1\n",
    "    for p in points:  \n",
    "        distances = [euclidian_dist(p, centroid) for centroid in centroids]\n",
    "        min_index = get_min_index(distances)\n",
    "        clusters[min_index].append(p)\n",
    "    \n",
    "    print(\"-----------------------------------\")\n",
    "    print(f\"iteation: {j}\")\n",
    "    print(f\"centroids: {centroids}\")\n",
    "    print(f\"Total td**2: {get_total_td_2(clusters, centroids)}\")\n",
    "    print(\"-----------------------------------\")\n",
    "    for i, cluster in enumerate(clusters):\n",
    "        print(f\"    - cluster {i + 1}: {cluster}\")\n",
    "        print(f\"    - Td**2: {get_td_2(cluster, centroids[i])}\")\n",
    "    \n",
    "    \n",
    "    while prev_clusters != clusters:\n",
    "        j += 1 \n",
    "        prev_clusters = clusters\n",
    "        for i, cluster in enumerate(clusters):\n",
    "            centroids[i] = [mean(flatten(cluster))]\n",
    "        \n",
    "        clusters = [[] for _ in range(k)]\n",
    "        temp_prev = clusters\n",
    "        for p in points:  \n",
    "            distances = [euclidian_dist(p, centroid) for centroid in centroids]\n",
    "            min_index = get_min_index(distances)\n",
    "            clusters[min_index].append(p)\n",
    "            if clusters[min_index] != prev_clusters[min_index]:\n",
    "                distances = [euclidian_dist(p, centroid) for centroid in centroids]\n",
    "                min_index = get_min_index(distances)\n",
    "                clusters[min_index].append(p)        \n",
    "        print()\n",
    "        print(\"-----------------------------------\")\n",
    "        print(f\"iteation: {j}\")\n",
    "        print(f\"centroids: {centroids}\")\n",
    "        print(f\"Total td**2: {get_total_td_2(clusters, centroids)}\")\n",
    "        print(\"-----------------------------------\")\n",
    "        for i, cluster in enumerate(clusters):\n",
    "            print(f\"    - cluster {i + 1}: {cluster}\")\n",
    "            print(f\"    - Td**2: {get_td_2(cluster, centroids[i])}\")\n",
    "    \n",
    "    print()\n",
    "    print(\"-----------------------------------\")\n",
    "    print(f\"Final result: \")\n",
    "    print(f\"centroids: {centroids}\")\n",
    "    print(f\"Total td**2: {get_total_td_2(clusters, centroids)}\")\n",
    "    print(\"-----------------------------------\")\n",
    "    for i, cluster in enumerate(clusters):\n",
    "        print(f\"    - cluster {i + 1}: {cluster}\")\n",
    "        print(f\"    - Td**2: {get_td_2(cluster, centroids[i])}\")  \n",
    "        \n",
    "\n",
    "points = [[2], [3], [4], [10], [11], [12], [20], [25], [30]]\n",
    "macqueen(points, 3, centroids = [[2], [4], [6]])"
   ]
  },
  {
   "cell_type": "markdown",
   "metadata": {},
   "source": [
    "# Exam exercises"
   ]
  },
  {
   "cell_type": "markdown",
   "metadata": {},
   "source": [
    "![title](imgs/Screenshot_3.png)"
   ]
  },
  {
   "cell_type": "code",
   "execution_count": 17,
   "metadata": {},
   "outputs": [
    {
     "data": {
      "text/plain": [
       "22"
      ]
     },
     "execution_count": 17,
     "metadata": {},
     "output_type": "execute_result"
    }
   ],
   "source": [
    "def get_centroids(cu: list[list[int]]):\n",
    "    cens = []\n",
    "    for c in cu:\n",
    "        cen = mean(list(flatten(c)))\n",
    "        cens.append([cen])\n",
    "    return cens\n",
    "\n",
    "\n",
    "\n",
    "cluster_1 = [[1], [3], [5]]\n",
    "cluster_2 = [[7], [10], [11], [12]]\n",
    "s_1 = [cluster_1, cluster_2]\n",
    "centroids = get_centroids(s_1)\n",
    "get_total_td_2(s_1, centroids)"
   ]
  },
  {
   "cell_type": "code",
   "execution_count": 18,
   "metadata": {},
   "outputs": [
    {
     "data": {
      "text/plain": [
       "6"
      ]
     },
     "execution_count": 18,
     "metadata": {},
     "output_type": "execute_result"
    }
   ],
   "source": [
    "cluster_1 = [[1], [3]]\n",
    "cluster_2 = [[5], [7]]\n",
    "cluster_3 = [ [10], [11], [12]]\n",
    "s_2 = [cluster_1, cluster_2, cluster_3]\n",
    "centroids = get_centroids(s_2)\n",
    "get_total_td_2(s_2, centroids)"
   ]
  },
  {
   "cell_type": "code",
   "execution_count": 19,
   "metadata": {},
   "outputs": [
    {
     "data": {
      "text/plain": [
       "22"
      ]
     },
     "execution_count": 19,
     "metadata": {},
     "output_type": "execute_result"
    }
   ],
   "source": [
    "cluster_1 = [[1], [3], [5], [7]]\n",
    "cluster_2 = [[10], [11], [12]]\n",
    "s_3 = [cluster_1, cluster_2]\n",
    "centroids = get_centroids(s_3)\n",
    "get_total_td_2(s_3, centroids)"
   ]
  },
  {
   "cell_type": "markdown",
   "metadata": {},
   "source": [
    "![Totæe](imgs/Screenshot_4.png)"
   ]
  },
  {
   "cell_type": "code",
   "execution_count": 34,
   "metadata": {},
   "outputs": [
    {
     "data": {
      "text/plain": [
       "0.7591435185185185"
      ]
     },
     "execution_count": 34,
     "metadata": {},
     "output_type": "execute_result"
    }
   ],
   "source": [
    "cluster_1 = [[1], [3], [5]]\n",
    "cluster_2 = [[7], [10], [11], [12]]\n",
    "s_1 = [cluster_1, cluster_2]\n",
    "centroids = get_centroids(s_1)\n",
    "get_total_sihoutte(s_1, centroids)"
   ]
  },
  {
   "cell_type": "code",
   "execution_count": 35,
   "metadata": {},
   "outputs": [
    {
     "data": {
      "text/plain": [
       "0.77"
      ]
     },
     "execution_count": 35,
     "metadata": {},
     "output_type": "execute_result"
    }
   ],
   "source": [
    "cluster_1 = [[1], [3]]\n",
    "cluster_2 = [[5], [7]]\n",
    "cluster_3 = [ [10], [11], [12]]\n",
    "s_2 = [cluster_1, cluster_2, cluster_3]\n",
    "centroids = get_centroids(s_2)\n",
    "round(get_total_sihoutte(s_2, centroids), 2)"
   ]
  },
  {
   "cell_type": "code",
   "execution_count": 36,
   "metadata": {},
   "outputs": [
    {
     "data": {
      "text/plain": [
       "0.78"
      ]
     },
     "execution_count": 36,
     "metadata": {},
     "output_type": "execute_result"
    }
   ],
   "source": [
    "cluster_1 = [[1], [3], [5], [7]]\n",
    "cluster_2 = [[10], [11], [12]]\n",
    "s_3 = [cluster_1, cluster_2]\n",
    "centroids = get_centroids(s_3)\n",
    "round(get_total_sihoutte(s_3, centroids), 2)"
   ]
  }
 ],
 "metadata": {
  "kernelspec": {
   "display_name": "Python 3.10.11 64-bit (microsoft store)",
   "language": "python",
   "name": "python3"
  },
  "language_info": {
   "codemirror_mode": {
    "name": "ipython",
    "version": 3
   },
   "file_extension": ".py",
   "mimetype": "text/x-python",
   "name": "python",
   "nbconvert_exporter": "python",
   "pygments_lexer": "ipython3",
   "version": "3.10.11"
  },
  "orig_nbformat": 4,
  "vscode": {
   "interpreter": {
    "hash": "aa82987a71ca0339a52998cd22613b0c002bda8349fa32a0cb67ceec3936a2bf"
   }
  }
 },
 "nbformat": 4,
 "nbformat_minor": 2
}
