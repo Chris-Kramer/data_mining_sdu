{
 "cells": [
  {
   "cell_type": "code",
   "execution_count": 11,
   "metadata": {},
   "outputs": [
    {
     "data": {
      "text/plain": [
       "0.3673469387755103"
      ]
     },
     "execution_count": 11,
     "metadata": {},
     "output_type": "execute_result"
    }
   ],
   "source": [
    "from math import log2\n",
    "\n",
    "def get_unique_values(my_list):    \n",
    "    unique = []\n",
    "    for element in my_list:\n",
    "        if element not in unique:\n",
    "            unique.append(element)\n",
    "    return unique\n",
    "\n",
    "def flatten(my_list):\n",
    "    return_list = []\n",
    "    for sublist in my_list:\n",
    "        for element in sublist:\n",
    "            return_list.append(element)\n",
    "    return return_list\n",
    "\n",
    "\n",
    "def class_entropy(labels):\n",
    "    unique_labels = get_unique_values(labels)\n",
    "    class_counts = [0 for _ in range(len(unique_labels))]\n",
    "    \n",
    "    for label in labels:\n",
    "        for i, unique_l in enumerate(unique_labels):\n",
    "            if unique_l == label:\n",
    "                class_counts[i] += 1\n",
    "    \n",
    "    class_probs = [class_count / len(labels) for class_count in class_counts]\n",
    "    \n",
    "    res = 0\n",
    "    for class_prob in class_probs:\n",
    "        res += class_prob * log2(class_prob)\n",
    "    return -res\n",
    "\n",
    "\n",
    "def gini_index(labels):\n",
    "    unique_labels = get_unique_values(labels)\n",
    "    class_counts = [0 for _ in range(len(unique_labels))]\n",
    "    \n",
    "    for label in labels:\n",
    "        for i, unique_l in enumerate(unique_labels):\n",
    "            if unique_l == label:\n",
    "                class_counts[i] += 1\n",
    "    \n",
    "    class_probs = [class_count/len(labels) for class_count in class_counts]\n",
    "    res = 0\n",
    "    for class_prob in class_probs:\n",
    "        res += class_prob**2\n",
    "        \n",
    "    return 1 - res\n",
    "\n",
    "\n",
    "def information_gain(partitions):\n",
    "    h_t = class_entropy(flatten(partitions))\n",
    "    res = 0\n",
    "    for partition in partitions:\n",
    "        res += ( len(partition) / len(flatten(partitions)) ) * class_entropy(partition)\n",
    "    return h_t - res\n",
    "\n",
    "\n",
    "def gini_index_test(partitions):\n",
    "    res = 0\n",
    "    for partition in partitions:\n",
    "        res += ( len(partition) / len(flatten(partitions)) ) * gini_index(partition)\n",
    "    return res\n",
    "\n",
    "\n",
    "classes = [0, 0, 1, 1, 1, 0, 1, 0, 1, 1, 1, 1, 1, 0]\n",
    "partitions = [\n",
    "    [0, 0, 0, 0, 1, 1, 1],\n",
    "    [1, 1, 1, 1, 1, 1, 0]\n",
    "]\n",
    "gini_index_test(partitions)"
   ]
  },
  {
   "cell_type": "markdown",
   "metadata": {},
   "source": [
    "![title](imgs/Screenshot_40.png)"
   ]
  },
  {
   "cell_type": "markdown",
   "metadata": {},
   "source": [
    "For the branch of forecast=sunny, we test wind: True  \n",
    "For the branch of forecast=sunny, we test humidity: FALSE  \n",
    "\n"
   ]
  },
  {
   "cell_type": "code",
   "execution_count": 12,
   "metadata": {},
   "outputs": [
    {
     "name": "stdout",
     "output_type": "stream",
     "text": [
      "Partiotion Sunny -> humidity Gini: 0.4666666666666667\n",
      "Partiotion Sunny -> wind Gini: 0.26666666666666666\n"
     ]
    }
   ],
   "source": [
    "# We make the partion for Sunny:\n",
    "sunny_labels = [\"no\", \"no\", \"yes\", \"yes\", \"no\"]\n",
    "sunny_humid = [\n",
    "    [\"no\", \"no\", \"yes\"], # Sunny and high humidity\n",
    "    [\"yes\", \"no\"] # Sunny and normal humidity\n",
    "]\n",
    "print(f\"Partiotion Sunny -> humidity Gini: {gini_index_test(sunny_humid)}\")\n",
    "\n",
    "sunny_wind = [\n",
    "    [\"no\", \"yes\", \"yes\"], # Sunny and weak wind\n",
    "    [\"no\", \"no\"]\n",
    "]\n",
    "\n",
    "print(f\"Partiotion Sunny -> wind Gini: {gini_index_test(sunny_wind)}\")"
   ]
  }
 ],
 "metadata": {
  "kernelspec": {
   "display_name": "Python 3.10.11 64-bit (microsoft store)",
   "language": "python",
   "name": "python3"
  },
  "language_info": {
   "codemirror_mode": {
    "name": "ipython",
    "version": 3
   },
   "file_extension": ".py",
   "mimetype": "text/x-python",
   "name": "python",
   "nbconvert_exporter": "python",
   "pygments_lexer": "ipython3",
   "version": "3.10.11"
  },
  "orig_nbformat": 4,
  "vscode": {
   "interpreter": {
    "hash": "aa82987a71ca0339a52998cd22613b0c002bda8349fa32a0cb67ceec3936a2bf"
   }
  }
 },
 "nbformat": 4,
 "nbformat_minor": 2
}
